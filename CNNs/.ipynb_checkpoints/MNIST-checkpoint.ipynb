{
 "cells": [
  {
   "cell_type": "code",
   "execution_count": null,
   "metadata": {},
   "outputs": [],
   "source": [
    "import tensorflow as tf\n",
    "from os import path, getcwd, chdir\n",
    "path = f\"{getcwd()}/mnist.npz\"\n",
    "mnist = tf.keras.datasets.mnist\n",
    "(training_images, training_labels), (test_images, test_labels) = mnist.load_data(path=path)"
   ]
  },
  {
   "cell_type": "code",
   "execution_count": 2,
   "metadata": {},
   "outputs": [
    {
     "name": "stdout",
     "output_type": "stream",
     "text": [
      "A local file was found, but it seems to be incomplete or outdated because the auto file hash does not match the original value of 731c5ac602752760c8e48fbffcf8c3b850d9dc2a2aedcf2cc48468fc17b673d1 so we will re-download the data.\n",
      "Downloading data from https://storage.googleapis.com/tensorflow/tf-keras-datasets/mnist.npz\n",
      "11493376/11490434 [==============================] - 3s 0us/step\n"
     ]
    },
    {
     "data": {
      "text/plain": [
       "(60000, 28, 28)"
      ]
     },
     "execution_count": 2,
     "metadata": {},
     "output_type": "execute_result"
    }
   ],
   "source": [
    "print (\"number of training examples = \" + str(training_images.shape[0]))\n",
    "print (\"number of test examples = \" + str(test_images.shape[0]))\n",
    "print (\"X_train shape: \" + str(training_images.shape))\n",
    "print (\"Y_train shape: \" + str(training_labels.shape))\n",
    "print (\"X_test shape: \" + str(test_images.shape))\n",
    "print (\"Y_test shape: \" + str(test_labels.shape))"
   ]
  },
  {
   "cell_type": "code",
   "execution_count": 3,
   "metadata": {},
   "outputs": [],
   "source": [
    "config = tf.ConfigProto()\n",
    "config.gpu_options.allow_growth = True\n",
    "sess = tf.Session(config=config)"
   ]
  },
  {
   "cell_type": "code",
   "execution_count": 11,
   "metadata": {},
   "outputs": [],
   "source": [
    "def train(x_train, y_train, x_test, y_test):\n",
    "    \n",
    "    class myCallback(tf.keras.callbacks.Callback):\n",
    "        def on_epoch_end(self, epoch, logs={}):\n",
    "            if(logs.get('acc')>0.998):\n",
    "                print(\"\\nReached 99.8% training! Stopping now.\")\n",
    "                self.model.stop_training = True\n",
    "                \n",
    "    callbacks = myCallback()\n",
    "    mnist = tf.keras.datasets.mnist\n",
    "    (training_images, training_labels), (test_images, test_labels) = (x_train, y_train), (x_test, y_test)\n",
    "    training_images = training_images.reshape(60000, 28, 28, 1)\n",
    "    training_images = training_images/255.\n",
    "    test_images = test_images.reshape(10000, 28, 28, 1)\n",
    "    test_images = test_images/255.\n",
    "    model = tf.keras.models.Sequential([\n",
    "        tf.keras.layers.Conv2D(32, (3,3), activation='relu', input_shape=(28, 28, 1)),\n",
    "        tf.keras.layers.MaxPooling2D(2, 2),\n",
    "        tf.keras.layers.Flatten(),\n",
    "        tf.keras.layers.Dense(128, activation='relu'),\n",
    "        tf.keras.layers.Dense(10, activation='softmax')\n",
    "    ])\n",
    "    model.compile(optimizer='adam', loss='sparse_categorical_crossentropy', metrics=['accuracy'])\n",
    "    history = model.fit(training_images, training_labels, epochs=20, callbacks=[callbacks])\n",
    "    test_loss, test_acc = model.evaluate(test_images, test_labels)\n",
    "    return history.epoch, history.history['acc'][-1]"
   ]
  },
  {
   "cell_type": "code",
   "execution_count": 12,
   "metadata": {},
   "outputs": [
    {
     "name": "stdout",
     "output_type": "stream",
     "text": [
      "Epoch 1/20\n",
      "60000/60000 [==============================] - 14s 233us/sample - loss: 0.1402 - acc: 0.9592\n",
      "Epoch 2/20\n",
      "60000/60000 [==============================] - 13s 223us/sample - loss: 0.0509 - acc: 0.9842 - \n",
      "Epoch 3/20\n",
      "60000/60000 [==============================] - 14s 225us/sample - loss: 0.0322 - acc: 0.9897\n",
      "Epoch 4/20\n",
      "60000/60000 [==============================] - 14s 229us/sample - loss: 0.0215 - acc: 0.9930\n",
      "Epoch 5/20\n",
      "60000/60000 [==============================] - 14s 227us/sample - loss: 0.0135 - acc: 0.9960\n",
      "Epoch 6/20\n",
      "60000/60000 [==============================] - 13s 223us/sample - loss: 0.0105 - acc: 0.9966\n",
      "Epoch 7/20\n",
      "60000/60000 [==============================] - 14s 227us/sample - loss: 0.0079 - acc: 0.9973\n",
      "Epoch 8/20\n",
      "59648/60000 [============================>.] - ETA: 0s - loss: 0.0050 - acc: 0.9983\n",
      "Reached 99.8% training accuracy so cancelling training!\n",
      "60000/60000 [==============================] - 13s 218us/sample - loss: 0.0050 - acc: 0.9983\n",
      "10000/10000 [==============================] - 2s 150us/sample - loss: 0.0526 - acc: 0.9855\n",
      "0.9855\n"
     ]
    }
   ],
   "source": [
    "_, _ = train()"
   ]
  },
  {
   "cell_type": "code",
   "execution_count": 6,
   "metadata": {},
   "outputs": [
    {
     "name": "stdout",
     "output_type": "stream",
     "text": [
      "Epoch 1/80\n",
      "60000/60000 [==============================] - 15s 244us/sample - loss: 0.1812 - acc: 0.9450\n",
      "Epoch 2/80\n",
      "60000/60000 [==============================] - 14s 239us/sample - loss: 0.0695 - acc: 0.9793\n",
      "Epoch 3/80\n",
      "60000/60000 [==============================] - 14s 237us/sample - loss: 0.0497 - acc: 0.9837\n",
      "Epoch 4/80\n",
      "60000/60000 [==============================] - 14s 233us/sample - loss: 0.0375 - acc: 0.9877\n",
      "Epoch 5/80\n",
      "60000/60000 [==============================] - 15s 242us/sample - loss: 0.0296 - acc: 0.9901\n",
      "Epoch 6/80\n",
      "60000/60000 [==============================] - 14s 237us/sample - loss: 0.0229 - acc: 0.9923\n",
      "Epoch 7/80\n",
      "60000/60000 [==============================] - 14s 237us/sample - loss: 0.0224 - acc: 0.9925\n",
      "Epoch 8/80\n",
      "60000/60000 [==============================] - 15s 247us/sample - loss: 0.0177 - acc: 0.9941\n",
      "Epoch 9/80\n",
      "60000/60000 [==============================] - 14s 242us/sample - loss: 0.0163 - acc: 0.9945\n",
      "Epoch 10/80\n",
      "60000/60000 [==============================] - 15s 250us/sample - loss: 0.0147 - acc: 0.9948\n",
      "Epoch 11/80\n",
      "60000/60000 [==============================] - 14s 240us/sample - loss: 0.0129 - acc: 0.9957 -\n",
      "Epoch 12/80\n",
      "60000/60000 [==============================] - 15s 246us/sample - loss: 0.0109 - acc: 0.9963\n",
      "Epoch 13/80\n",
      "60000/60000 [==============================] - 15s 244us/sample - loss: 0.0107 - acc: 0.9966\n",
      "Epoch 14/80\n",
      "60000/60000 [==============================] - 15s 246us/sample - loss: 0.0111 - acc: 0.9962\n",
      "Epoch 15/80\n",
      "60000/60000 [==============================] - 15s 250us/sample - loss: 0.0098 - acc: 0.9967\n",
      "Epoch 16/80\n",
      "60000/60000 [==============================] - 15s 243us/sample - loss: 0.0079 - acc: 0.9972\n",
      "Epoch 17/80\n",
      "60000/60000 [==============================] - 15s 243us/sample - loss: 0.0093 - acc: 0.9969\n",
      "Epoch 18/80\n",
      "60000/60000 [==============================] - 14s 240us/sample - loss: 0.0088 - acc: 0.9970\n",
      "Epoch 19/80\n",
      "60000/60000 [==============================] - 14s 241us/sample - loss: 0.0077 - acc: 0.9974\n",
      "Epoch 20/80\n",
      "60000/60000 [==============================] - 14s 232us/sample - loss: 0.0071 - acc: 0.9975\n",
      "Epoch 21/80\n",
      "60000/60000 [==============================] - 14s 228us/sample - loss: 0.0073 - acc: 0.9974\n",
      "Epoch 22/80\n",
      "60000/60000 [==============================] - 15s 257us/sample - loss: 0.0078 - acc: 0.9976\n",
      "Epoch 23/80\n",
      "60000/60000 [==============================] - 15s 256us/sample - loss: 0.0063 - acc: 0.9978\n",
      "Epoch 24/80\n",
      "60000/60000 [==============================] - 15s 250us/sample - loss: 0.0066 - acc: 0.9976\n",
      "Epoch 25/80\n",
      "60000/60000 [==============================] - 16s 265us/sample - loss: 0.0063 - acc: 0.9979\n",
      "Epoch 26/80\n",
      "60000/60000 [==============================] - 15s 253us/sample - loss: 0.0070 - acc: 0.9976\n",
      "Epoch 27/80\n",
      "60000/60000 [==============================] - 15s 255us/sample - loss: 0.0066 - acc: 0.9977\n",
      "Epoch 28/80\n",
      "60000/60000 [==============================] - 14s 242us/sample - loss: 0.0052 - acc: 0.9981\n",
      "Epoch 29/80\n",
      "60000/60000 [==============================] - 15s 248us/sample - loss: 0.0065 - acc: 0.9978\n",
      "Epoch 30/80\n",
      "60000/60000 [==============================] - 15s 252us/sample - loss: 0.0064 - acc: 0.9980\n",
      "Epoch 31/80\n",
      "60000/60000 [==============================] - 15s 252us/sample - loss: 0.0062 - acc: 0.9981\n",
      "Epoch 32/80\n",
      "60000/60000 [==============================] - 15s 245us/sample - loss: 0.0052 - acc: 0.9983\n",
      "Epoch 33/80\n",
      "60000/60000 [==============================] - 15s 243us/sample - loss: 0.0056 - acc: 0.9981\n",
      "Epoch 34/80\n",
      "60000/60000 [==============================] - 15s 247us/sample - loss: 0.0057 - acc: 0.9980\n",
      "Epoch 35/80\n",
      "60000/60000 [==============================] - 15s 250us/sample - loss: 0.0052 - acc: 0.9984\n",
      "Epoch 36/80\n",
      "60000/60000 [==============================] - 15s 252us/sample - loss: 0.0049 - acc: 0.9984\n",
      "Epoch 37/80\n",
      "60000/60000 [==============================] - 14s 236us/sample - loss: 0.0047 - acc: 0.9985\n",
      "Epoch 38/80\n",
      "60000/60000 [==============================] - 15s 245us/sample - loss: 0.0044 - acc: 0.9985\n",
      "Epoch 39/80\n",
      "60000/60000 [==============================] - 15s 247us/sample - loss: 0.0050 - acc: 0.9984\n",
      "Epoch 40/80\n",
      "60000/60000 [==============================] - 14s 230us/sample - loss: 0.0042 - acc: 0.9987\n",
      "Epoch 41/80\n",
      "60000/60000 [==============================] - 14s 230us/sample - loss: 0.0045 - acc: 0.9985\n",
      "Epoch 42/80\n",
      "60000/60000 [==============================] - 15s 253us/sample - loss: 0.0063 - acc: 0.9982\n",
      "Epoch 43/80\n",
      "60000/60000 [==============================] - 15s 253us/sample - loss: 0.0044 - acc: 0.9985\n",
      "Epoch 44/80\n",
      "60000/60000 [==============================] - 15s 248us/sample - loss: 0.0038 - acc: 0.9987\n",
      "Epoch 45/80\n",
      "60000/60000 [==============================] - 15s 248us/sample - loss: 0.0044 - acc: 0.9985\n",
      "Epoch 46/80\n",
      "60000/60000 [==============================] - 15s 247us/sample - loss: 0.0047 - acc: 0.9985 - lo\n",
      "Epoch 47/80\n",
      "60000/60000 [==============================] - 15s 244us/sample - loss: 0.0045 - acc: 0.9984\n",
      "Epoch 48/80\n",
      "60000/60000 [==============================] - 14s 226us/sample - loss: 0.0042 - acc: 0.9984\n",
      "Epoch 49/80\n",
      "60000/60000 [==============================] - 13s 223us/sample - loss: 0.0045 - acc: 0.9986\n",
      "Epoch 50/80\n",
      "60000/60000 [==============================] - 15s 252us/sample - loss: 0.0043 - acc: 0.9986\n",
      "Epoch 51/80\n",
      "60000/60000 [==============================] - 14s 230us/sample - loss: 0.0043 - acc: 0.9985\n",
      "Epoch 52/80\n",
      "60000/60000 [==============================] - 14s 225us/sample - loss: 0.0047 - acc: 0.9984\n",
      "Epoch 53/80\n",
      "60000/60000 [==============================] - 14s 232us/sample - loss: 0.0058 - acc: 0.9982\n",
      "Epoch 54/80\n",
      "60000/60000 [==============================] - 14s 235us/sample - loss: 0.0039 - acc: 0.9987\n",
      "Epoch 55/80\n",
      "60000/60000 [==============================] - 15s 245us/sample - loss: 0.0039 - acc: 0.9988\n",
      "Epoch 56/80\n",
      "60000/60000 [==============================] - 14s 228us/sample - loss: 0.0060 - acc: 0.9984\n",
      "Epoch 57/80\n",
      "60000/60000 [==============================] - 14s 235us/sample - loss: 0.0039 - acc: 0.9987\n",
      "Epoch 58/80\n",
      "60000/60000 [==============================] - 14s 228us/sample - loss: 0.0052 - acc: 0.9985\n",
      "Epoch 59/80\n",
      "60000/60000 [==============================] - 14s 240us/sample - loss: 0.0046 - acc: 0.9986\n",
      "Epoch 60/80\n",
      "59808/60000 [============================>.] - ETA: 0s - loss: 0.0035 - acc: 0.9991\n",
      "Reached 99.9% training accuracy so cancelling training!\n",
      "60000/60000 [==============================] - 14s 240us/sample - loss: 0.0035 - acc: 0.9991\n",
      "10000/10000 [==============================] - 2s 182us/sample - loss: 0.0623 - acc: 0.9908\n"
     ]
    }
   ],
   "source": [
    "# NOT GRADED\n",
    "def train_dropout():\n",
    "\n",
    "    class myCallback(tf.keras.callbacks.Callback):\n",
    "        def on_epoch_end(self, epoch, logs={}):\n",
    "            if(logs.get('acc')>0.999):\n",
    "                print(\"\\nReached 99.9% training accuracy so cancelling training!\")\n",
    "                self.model.stop_training = True\n",
    "\n",
    "    # YOUR CODE ENDS HERE\n",
    "\n",
    "    mnist = tf.keras.datasets.mnist\n",
    "    (training_images, training_labels), (test_images, test_labels) = mnist.load_data(path=path)\n",
    "    # YOUR CODE STARTS HERE\n",
    "    training_images = training_images.reshape(60000, 28, 28, 1)\n",
    "    training_images = training_images/255.\n",
    "    test_images = test_images.reshape(10000, 28, 28, 1)\n",
    "    test_images = test_images/255.\n",
    "    callbacks = myCallback()\n",
    "    # YOUR CODE ENDS HERE\n",
    "\n",
    "    model = tf.keras.models.Sequential([\n",
    "            # YOUR CODE STARTS HERE\n",
    "        tf.keras.layers.Conv2D(32, (3,3), activation='relu', input_shape=(28, 28, 1)),\n",
    "        tf.keras.layers.MaxPooling2D(2, 2),\n",
    "        tf.keras.layers.Flatten(),\n",
    "        tf.keras.layers.Dropout(0.2),\n",
    "        tf.keras.layers.Dense(128, activation='relu'),\n",
    "        tf.keras.layers.Dropout(0.2),\n",
    "        tf.keras.layers.Dense(10, activation='softmax')\n",
    "            # YOUR CODE ENDS HERE\n",
    "    ])\n",
    "\n",
    "    model.compile(optimizer='adam', loss='sparse_categorical_crossentropy', metrics=['accuracy'])\n",
    "    # model fitting\n",
    "    history = model.fit(training_images, training_labels, epochs=80, callbacks=[callbacks])\n",
    "    test_loss, test_acc = model.evaluate(test_images, test_labels)\n",
    "    # model fitting\n",
    "    return history\n",
    "hist = train_mnist_conv()\n",
    "import matplotlib.pyplot as plt"
   ]
  },
  {
   "cell_type": "code",
   "execution_count": 7,
   "metadata": {},
   "outputs": [
    {
     "data": {
      "image/png": "[encoded data removed]",
      "text/plain": [
       "<Figure size 432x288 with 1 Axes>"
      ]
     },
     "metadata": {
      "needs_background": "light"
     },
     "output_type": "display_data"
    }
   ],
   "source": [
    "plt.plot(hist.history['loss']);"
   ]
  }
 ],
 "metadata": {
  "coursera": {
   "course_slug": "introduction-tensorflow",
   "graded_item_id": "ml06H",
   "launcher_item_id": "hQF8A"
  },
  "kernelspec": {
   "display_name": "Python 3",
   "language": "python",
   "name": "python3"
  },
  "language_info": {
   "codemirror_mode": {
    "name": "ipython",
    "version": 3
   },
   "file_extension": ".py",
   "mimetype": "text/x-python",
   "name": "python",
   "nbconvert_exporter": "python",
   "pygments_lexer": "ipython3",
   "version": "3.7.3"
  }
 },
 "nbformat": 4,
 "nbformat_minor": 1
}
