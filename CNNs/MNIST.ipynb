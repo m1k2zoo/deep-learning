{
 "cells": [
  {
   "cell_type": "code",
   "execution_count": 1,
   "metadata": {
    "colab": {},
    "colab_type": "code",
    "id": "g8UAhzCdy8No"
   },
   "outputs": [],
   "source": [
    "import matplotlib.pyplot as plt\n",
    "import random\n",
    "import numpy as np\n",
    "import tensorflow as tf\n",
    "from os import path, getcwd, chdir"
   ]
  },
  {
   "cell_type": "code",
   "execution_count": 2,
   "metadata": {
    "colab": {},
    "colab_type": "code",
    "id": "AZ03TOsXy8Nx"
   },
   "outputs": [],
   "source": [
    "path = f\"{getcwd()}/mnist.npz\"\n",
    "mnist = tf.keras.datasets.mnist\n",
    "(training_images, training_labels), (test_images, test_labels) = mnist.load_data(path=path)"
   ]
  },
  {
   "cell_type": "code",
   "execution_count": 3,
   "metadata": {
    "colab": {
     "base_uri": "https://localhost:8080/",
     "height": 126
    },
    "colab_type": "code",
    "id": "kNLmUD_my8N2",
    "outputId": "774e8052-a920-478a-8820-e563ec5e6cb1"
   },
   "outputs": [
    {
     "name": "stdout",
     "output_type": "stream",
     "text": [
      "number of training examples = 60000\n",
      "number of test examples = 10000\n",
      "X_train shape: (60000, 28, 28)\n",
      "Y_train shape: (60000,)\n",
      "X_test shape: (10000, 28, 28)\n",
      "Y_test shape: (10000,)\n"
     ]
    }
   ],
   "source": [
    "print (\"number of training examples = \" + str(training_images.shape[0]))\n",
    "print (\"number of test examples = \" + str(test_images.shape[0]))\n",
    "print (\"X_train shape: \" + str(training_images.shape))\n",
    "print (\"Y_train shape: \" + str(training_labels.shape))\n",
    "print (\"X_test shape: \" + str(test_images.shape))\n",
    "print (\"Y_test shape: \" + str(test_labels.shape))"
   ]
  },
  {
   "cell_type": "code",
   "execution_count": 5,
   "metadata": {
    "colab": {
     "base_uri": "https://localhost:8080/",
     "height": 283
    },
    "colab_type": "code",
    "id": "sTkyzkXgy8OA",
    "outputId": "916a9c69-c340-439f-d33e-865b03d76894"
   },
   "outputs": [
    {
     "name": "stdout",
     "output_type": "stream",
     "text": [
      "label = 9\n"
     ]
    },
    {
     "data": {
      "image/png": "[encoded data removed]",
      "text/plain": [
       "<Figure size 432x288 with 1 Axes>"
      ]
     },
     "metadata": {
      "needs_background": "light",
      "tags": []
     },
     "output_type": "display_data"
    }
   ],
   "source": [
    "import random\n",
    "# Example of a random training image along with its label\n",
    "# Run cell again to see another example\n",
    "index = random.randrange(0, 60000)\n",
    "plt.imshow(training_images[index])\n",
    "print (\"label = \" + str(training_labels[index]))"
   ]
  },
  {
   "cell_type": "code",
   "execution_count": 6,
   "metadata": {
    "colab": {
     "base_uri": "https://localhost:8080/",
     "height": 345
    },
    "colab_type": "code",
    "id": "c-f3f0ZZy8OK",
    "outputId": "a23c6b1c-8ce1-4d5a-d7f2-b7bde21b42cd"
   },
   "outputs": [
    {
     "name": "stdout",
     "output_type": "stream",
     "text": [
      "Model: \"sequential\"\n",
      "_________________________________________________________________\n",
      "Layer (type)                 Output Shape              Param #   \n",
      "=================================================================\n",
      "conv2d (Conv2D)              (None, 26, 26, 32)        320       \n",
      "_________________________________________________________________\n",
      "max_pooling2d (MaxPooling2D) (None, 13, 13, 32)        0         \n",
      "_________________________________________________________________\n",
      "flatten (Flatten)            (None, 5408)              0         \n",
      "_________________________________________________________________\n",
      "dense (Dense)                (None, 128)               692352    \n",
      "_________________________________________________________________\n",
      "dense_1 (Dense)              (None, 10)                1290      \n",
      "=================================================================\n",
      "Total params: 693,962\n",
      "Trainable params: 693,962\n",
      "Non-trainable params: 0\n",
      "_________________________________________________________________\n"
     ]
    }
   ],
   "source": [
    "training_images = training_images.reshape(60000, 28, 28, 1)\n",
    "training_images = training_images/255.\n",
    "test_images = test_images.reshape(10000, 28, 28, 1)\n",
    "test_images = test_images/255.\n",
    "\n",
    "model = tf.keras.models.Sequential([\n",
    "    tf.keras.layers.Conv2D(32, (3,3), activation='relu', input_shape=(28, 28, 1)),\n",
    "    tf.keras.layers.MaxPooling2D(2, 2),\n",
    "    tf.keras.layers.Flatten(),\n",
    "    tf.keras.layers.Dense(128, activation='relu'),\n",
    "    tf.keras.layers.Dense(10, activation='softmax')\n",
    "])\n",
    "\n",
    "model.summary()"
   ]
  },
  {
   "cell_type": "code",
   "execution_count": 7,
   "metadata": {
    "colab": {
     "base_uri": "https://localhost:8080/",
     "height": 545
    },
    "colab_type": "code",
    "id": "KjwWdUjmy8OP",
    "outputId": "e3fac655-f9ec-4fc4-bb8d-6c38908d7961"
   },
   "outputs": [
    {
     "name": "stdout",
     "output_type": "stream",
     "text": [
      "Epoch 1/40\n",
      "938/938 [==============================] - 3s 3ms/step - loss: 0.1802 - accuracy: 0.9471\n",
      "Epoch 2/40\n",
      "938/938 [==============================] - 3s 3ms/step - loss: 0.0586 - accuracy: 0.9828\n",
      "Epoch 3/40\n",
      "938/938 [==============================] - 2s 3ms/step - loss: 0.0374 - accuracy: 0.9888\n",
      "Epoch 4/40\n",
      "938/938 [==============================] - 2s 3ms/step - loss: 0.0255 - accuracy: 0.9922\n",
      "Epoch 5/40\n",
      "938/938 [==============================] - 3s 3ms/step - loss: 0.0175 - accuracy: 0.9943\n",
      "Epoch 6/40\n",
      "938/938 [==============================] - 2s 3ms/step - loss: 0.0128 - accuracy: 0.9960\n",
      "Epoch 7/40\n",
      "938/938 [==============================] - 2s 3ms/step - loss: 0.0093 - accuracy: 0.9971\n",
      "Epoch 8/40\n",
      "938/938 [==============================] - 2s 3ms/step - loss: 0.0083 - accuracy: 0.9972\n",
      "Epoch 9/40\n",
      "938/938 [==============================] - 3s 3ms/step - loss: 0.0061 - accuracy: 0.9981\n",
      "Epoch 10/40\n",
      "938/938 [==============================] - 2s 3ms/step - loss: 0.0050 - accuracy: 0.9985\n",
      "Epoch 11/40\n",
      "938/938 [==============================] - 2s 3ms/step - loss: 0.0051 - accuracy: 0.9984\n",
      "Epoch 12/40\n",
      "938/938 [==============================] - 3s 3ms/step - loss: 0.0046 - accuracy: 0.9984\n",
      "Epoch 13/40\n",
      "934/938 [============================>.] - ETA: 0s - loss: 0.0016 - accuracy: 0.9995\n",
      "Reached 99.9% training! Stopping now.\n",
      "938/938 [==============================] - 3s 3ms/step - loss: 0.0017 - accuracy: 0.9995\n",
      "313/313 [==============================] - 1s 2ms/step - loss: 0.0622 - accuracy: 0.9861\n"
     ]
    }
   ],
   "source": [
    "class myCallback(tf.keras.callbacks.Callback):\n",
    "    def on_epoch_end(self, epoch, logs={}):\n",
    "        if(logs.get('accuracy')>0.999):\n",
    "            print(\"\\nReached 99.9% training! Stopping now.\")\n",
    "            self.model.stop_training = True\n",
    "callbacks = myCallback()\n",
    "model.compile(optimizer='adam', loss='sparse_categorical_crossentropy', metrics=['accuracy'])\n",
    "history = model.fit(training_images, training_labels, epochs=40, batch_size=64, callbacks=[callbacks])\n",
    "test_loss, test_acc = model.evaluate(test_images, test_labels)"
   ]
  },
  {
   "cell_type": "code",
   "execution_count": 8,
   "metadata": {
    "colab": {
     "base_uri": "https://localhost:8080/",
     "height": 295
    },
    "colab_type": "code",
    "id": "uCXmSbvj7nVV",
    "outputId": "0b1f952d-1067-4080-c172-1f72ad6b6f32"
   },
   "outputs": [
    {
     "data": {
      "image/png": "[encoded data removed]",
      "text/plain": [
       "<Figure size 432x288 with 1 Axes>"
      ]
     },
     "metadata": {
      "needs_background": "light",
      "tags": []
     },
     "output_type": "display_data"
    }
   ],
   "source": [
    "plt.ylabel('training loss')\n",
    "plt.xlabel('iterations')\n",
    "plt.title('loss trajectory')\n",
    "plt.plot(history.history['loss'])\n",
    "plt.show()"
   ]
  },
  {
   "cell_type": "code",
   "execution_count": 10,
   "metadata": {
    "colab": {
     "base_uri": "https://localhost:8080/",
     "height": 72
    },
    "colab_type": "code",
    "id": "SFgX4Mk4y8Oc",
    "outputId": "c6c58d91-98a1-4f57-a53f-9d237f68666a"
   },
   "outputs": [
    {
     "name": "stdout",
     "output_type": "stream",
     "text": [
      "Train Accuracy: 0.9994833469390869\n",
      "Test Accuracy: 0.9861000180244446\n",
      "Variance =  0.013383328914642334\n"
     ]
    }
   ],
   "source": [
    "print(\"Train Accuracy:\", history.history['accuracy'][-1])\n",
    "print(\"Test Accuracy:\", test_acc)\n",
    "print(\"Variance = \", history.history['accuracy'][-1] - test_acc)"
   ]
  },
  {
   "cell_type": "code",
   "execution_count": 18,
   "metadata": {
    "colab": {
     "base_uri": "https://localhost:8080/",
     "height": 417
    },
    "colab_type": "code",
    "id": "Xsolv41Dy8Oh",
    "outputId": "dc2ea4e6-791a-4177-f3cc-c989817365f0"
   },
   "outputs": [
    {
     "name": "stdout",
     "output_type": "stream",
     "text": [
      "Model: \"sequential_2\"\n",
      "_________________________________________________________________\n",
      "Layer (type)                 Output Shape              Param #   \n",
      "=================================================================\n",
      "conv2d_4 (Conv2D)            (None, 26, 26, 32)        320       \n",
      "_________________________________________________________________\n",
      "max_pooling2d_4 (MaxPooling2 (None, 13, 13, 32)        0         \n",
      "_________________________________________________________________\n",
      "flatten_4 (Flatten)          (None, 5408)              0         \n",
      "_________________________________________________________________\n",
      "dropout_6 (Dropout)          (None, 5408)              0         \n",
      "_________________________________________________________________\n",
      "dense_8 (Dense)              (None, 128)               692352    \n",
      "_________________________________________________________________\n",
      "dropout_7 (Dropout)          (None, 128)               0         \n",
      "_________________________________________________________________\n",
      "dense_9 (Dense)              (None, 10)                1290      \n",
      "=================================================================\n",
      "Total params: 693,962\n",
      "Trainable params: 693,962\n",
      "Non-trainable params: 0\n",
      "_________________________________________________________________\n"
     ]
    }
   ],
   "source": [
    "model_d = tf.keras.models.Sequential([\n",
    "    tf.keras.layers.Conv2D(32, (3,3), activation='relu', input_shape=(28, 28, 1)),\n",
    "    tf.keras.layers.MaxPooling2D(2, 2),\n",
    "    tf.keras.layers.Flatten(),\n",
    "    tf.keras.layers.Dropout(0.2),\n",
    "    tf.keras.layers.Dense(128, activation='relu'),\n",
    "    tf.keras.layers.Dropout(0.2),\n",
    "    tf.keras.layers.Dense(10, activation='softmax')\n",
    "])\n",
    "model_d.summary()"
   ]
  },
  {
   "cell_type": "code",
   "execution_count": 19,
   "metadata": {
    "colab": {
     "base_uri": "https://localhost:8080/",
     "height": 1000
    },
    "colab_type": "code",
    "id": "mCeD8Zpn0go_",
    "outputId": "828f3b5b-a318-4091-cb6e-d61332e8ad07"
   },
   "outputs": [
    {
     "name": "stdout",
     "output_type": "stream",
     "text": [
      "Epoch 1/80\n",
      "938/938 [==============================] - 3s 3ms/step - loss: 0.2157 - accuracy: 0.9358\n",
      "Epoch 2/80\n",
      "938/938 [==============================] - 3s 3ms/step - loss: 0.0789 - accuracy: 0.9767\n",
      "Epoch 3/80\n",
      "938/938 [==============================] - 3s 3ms/step - loss: 0.0546 - accuracy: 0.9830\n",
      "Epoch 4/80\n",
      "938/938 [==============================] - 3s 3ms/step - loss: 0.0437 - accuracy: 0.9865\n",
      "Epoch 5/80\n",
      "938/938 [==============================] - 3s 3ms/step - loss: 0.0360 - accuracy: 0.9883\n",
      "Epoch 6/80\n",
      "938/938 [==============================] - 3s 3ms/step - loss: 0.0275 - accuracy: 0.9911\n",
      "Epoch 7/80\n",
      "938/938 [==============================] - 3s 3ms/step - loss: 0.0249 - accuracy: 0.9916\n",
      "Epoch 8/80\n",
      "938/938 [==============================] - 3s 3ms/step - loss: 0.0202 - accuracy: 0.9934\n",
      "Epoch 9/80\n",
      "938/938 [==============================] - 3s 3ms/step - loss: 0.0179 - accuracy: 0.9935\n",
      "Epoch 10/80\n",
      "938/938 [==============================] - 3s 3ms/step - loss: 0.0174 - accuracy: 0.9942\n",
      "Epoch 11/80\n",
      "938/938 [==============================] - 3s 3ms/step - loss: 0.0140 - accuracy: 0.9952\n",
      "Epoch 12/80\n",
      "938/938 [==============================] - 3s 3ms/step - loss: 0.0125 - accuracy: 0.9959\n",
      "Epoch 13/80\n",
      "938/938 [==============================] - 3s 3ms/step - loss: 0.0130 - accuracy: 0.9955\n",
      "Epoch 14/80\n",
      "938/938 [==============================] - 3s 3ms/step - loss: 0.0103 - accuracy: 0.9965\n",
      "Epoch 15/80\n",
      "938/938 [==============================] - 3s 3ms/step - loss: 0.0106 - accuracy: 0.9965\n",
      "Epoch 16/80\n",
      "938/938 [==============================] - 3s 3ms/step - loss: 0.0097 - accuracy: 0.9966\n",
      "Epoch 17/80\n",
      "938/938 [==============================] - 3s 3ms/step - loss: 0.0083 - accuracy: 0.9971\n",
      "Epoch 18/80\n",
      "938/938 [==============================] - 3s 3ms/step - loss: 0.0079 - accuracy: 0.9973\n",
      "Epoch 19/80\n",
      "938/938 [==============================] - 3s 3ms/step - loss: 0.0089 - accuracy: 0.9972\n",
      "Epoch 20/80\n",
      "938/938 [==============================] - 3s 3ms/step - loss: 0.0075 - accuracy: 0.9973\n",
      "Epoch 21/80\n",
      "938/938 [==============================] - 3s 3ms/step - loss: 0.0071 - accuracy: 0.9974\n",
      "Epoch 22/80\n",
      "938/938 [==============================] - 3s 3ms/step - loss: 0.0074 - accuracy: 0.9971\n",
      "Epoch 23/80\n",
      "938/938 [==============================] - 3s 3ms/step - loss: 0.0062 - accuracy: 0.9981\n",
      "Epoch 24/80\n",
      "938/938 [==============================] - 3s 3ms/step - loss: 0.0072 - accuracy: 0.9976\n",
      "Epoch 25/80\n",
      "938/938 [==============================] - 3s 3ms/step - loss: 0.0056 - accuracy: 0.9980\n",
      "Epoch 26/80\n",
      "938/938 [==============================] - 3s 3ms/step - loss: 0.0062 - accuracy: 0.9978\n",
      "Epoch 27/80\n",
      "938/938 [==============================] - 3s 3ms/step - loss: 0.0057 - accuracy: 0.9980\n",
      "Epoch 28/80\n",
      "938/938 [==============================] - 3s 3ms/step - loss: 0.0052 - accuracy: 0.9983\n",
      "Epoch 29/80\n",
      "938/938 [==============================] - 3s 3ms/step - loss: 0.0059 - accuracy: 0.9983\n",
      "Epoch 30/80\n",
      "938/938 [==============================] - 3s 3ms/step - loss: 0.0057 - accuracy: 0.9980\n",
      "Epoch 31/80\n",
      "938/938 [==============================] - 3s 3ms/step - loss: 0.0057 - accuracy: 0.9980\n",
      "Epoch 32/80\n",
      "938/938 [==============================] - 3s 3ms/step - loss: 0.0051 - accuracy: 0.9982\n",
      "Epoch 33/80\n",
      "938/938 [==============================] - 3s 3ms/step - loss: 0.0057 - accuracy: 0.9980\n",
      "Epoch 34/80\n",
      "938/938 [==============================] - 3s 3ms/step - loss: 0.0046 - accuracy: 0.9983\n",
      "Epoch 35/80\n",
      "938/938 [==============================] - 3s 3ms/step - loss: 0.0041 - accuracy: 0.9987\n",
      "Epoch 36/80\n",
      "938/938 [==============================] - 3s 3ms/step - loss: 0.0053 - accuracy: 0.9981\n",
      "Epoch 37/80\n",
      "938/938 [==============================] - 3s 3ms/step - loss: 0.0051 - accuracy: 0.9984\n",
      "Epoch 38/80\n",
      "938/938 [==============================] - 3s 3ms/step - loss: 0.0037 - accuracy: 0.9987\n",
      "Epoch 39/80\n",
      "938/938 [==============================] - 3s 3ms/step - loss: 0.0039 - accuracy: 0.9986\n",
      "Epoch 40/80\n",
      "938/938 [==============================] - 3s 3ms/step - loss: 0.0047 - accuracy: 0.9986\n",
      "Epoch 41/80\n",
      "938/938 [==============================] - 3s 3ms/step - loss: 0.0046 - accuracy: 0.9985\n",
      "Epoch 42/80\n",
      "938/938 [==============================] - 3s 3ms/step - loss: 0.0048 - accuracy: 0.9984\n",
      "Epoch 43/80\n",
      "938/938 [==============================] - 3s 3ms/step - loss: 0.0042 - accuracy: 0.9985\n",
      "Epoch 44/80\n",
      "938/938 [==============================] - 3s 3ms/step - loss: 0.0054 - accuracy: 0.9982\n",
      "Epoch 45/80\n",
      "938/938 [==============================] - 3s 3ms/step - loss: 0.0041 - accuracy: 0.9986\n",
      "Epoch 46/80\n",
      "938/938 [==============================] - 3s 3ms/step - loss: 0.0036 - accuracy: 0.9989\n",
      "Epoch 47/80\n",
      "938/938 [==============================] - 3s 3ms/step - loss: 0.0036 - accuracy: 0.9987\n",
      "Epoch 48/80\n",
      "938/938 [==============================] - 3s 3ms/step - loss: 0.0040 - accuracy: 0.9986\n",
      "Epoch 49/80\n",
      "935/938 [============================>.] - ETA: 0s - loss: 0.0027 - accuracy: 0.9991\n",
      "Reached 99.9% training! Stopping now.\n",
      "938/938 [==============================] - 3s 3ms/step - loss: 0.0028 - accuracy: 0.9991\n",
      "313/313 [==============================] - 1s 2ms/step - loss: 0.0611 - accuracy: 0.9892\n"
     ]
    }
   ],
   "source": [
    "model_d.compile(optimizer='adam', loss='sparse_categorical_crossentropy', metrics=['accuracy'])\n",
    "history = model_d.fit(training_images, training_labels, epochs=80, batch_size=64, callbacks=[callbacks])\n",
    "test_loss, test_acc = model_d.evaluate(test_images, test_labels)"
   ]
  },
  {
   "cell_type": "code",
   "execution_count": null,
   "metadata": {
    "colab": {},
    "colab_type": "code",
    "id": "AW62ZyYoy8Om",
    "outputId": "87d923fd-7252-425a-cffb-3bfabc6ee8c5"
   },
   "outputs": [
    {
     "data": {
      "image/png": "[encoded data removed]",
      "text/plain": [
       "<Figure size 432x288 with 1 Axes>"
      ]
     },
     "metadata": {
      "needs_background": "light",
      "tags": []
     },
     "output_type": "display_data"
    }
   ],
   "source": [
    "plt.ylabel('training loss')\n",
    "plt.xlabel('iterations')\n",
    "plt.title('loss trajectory after adding dropout')\n",
    "plt.plot(history.history['loss'])\n",
    "plt.show()"
   ]
  },
  {
   "cell_type": "code",
   "execution_count": 20,
   "metadata": {
    "colab": {
     "base_uri": "https://localhost:8080/",
     "height": 72
    },
    "colab_type": "code",
    "id": "z4Hob9my2sCn",
    "outputId": "2ce40e4f-b875-4b53-c79c-c62bfc09a244"
   },
   "outputs": [
    {
     "name": "stdout",
     "output_type": "stream",
     "text": [
      "Train Accuracy: 0.9991333484649658\n",
      "Test Accuracy: 0.9891999959945679\n",
      "Variance =  0.00993335247039795\n"
     ]
    }
   ],
   "source": [
    "print(\"Train Accuracy:\", history.history['accuracy'][-1])\n",
    "print(\"Test Accuracy:\", test_acc)\n",
    "print(\"Variance = \", history.history['accuracy'][-1] - test_acc)"
   ]
  },
  {
   "cell_type": "code",
   "execution_count": 23,
   "metadata": {
    "colab": {
     "base_uri": "https://localhost:8080/",
     "height": 72
    },
    "colab_type": "code",
    "id": "QxtfuNR4-nFl",
    "outputId": "dd7a2230-520b-4a9b-eeab-c22eb283b9c8"
   },
   "outputs": [
    {
     "data": {
      "text/plain": [
       "array([[2.8530154e-18, 2.2099177e-19, 2.2678060e-16, 4.9038014e-13,\n",
       "        1.5321524e-08, 2.2812158e-12, 9.2106917e-20, 3.8509343e-12,\n",
       "        8.9661102e-13, 1.0000000e+00]], dtype=float32)"
      ]
     },
     "execution_count": 23,
     "metadata": {
      "tags": []
     },
     "output_type": "execute_result"
    }
   ],
   "source": [
    "model.predict(training_images[index].reshape(1, 28, 28, 1))"
   ]
  },
  {
   "cell_type": "code",
   "execution_count": 25,
   "metadata": {
    "colab": {
     "base_uri": "https://localhost:8080/",
     "height": 54
    },
    "colab_type": "code",
    "id": "hrCjJE2b-syG",
    "outputId": "855d624b-8838-4765-d121-5ec211d1d939"
   },
   "outputs": [
    {
     "name": "stdout",
     "output_type": "stream",
     "text": [
      "The first model prediction on the random image shown above is: 9\n",
      "The second model prediction on the random image shown above is: 9\n"
     ]
    }
   ],
   "source": [
    "model1_pred = np.argmax(model.predict(training_images[index].reshape(1, 28, 28, 1)))\n",
    "model2_pred = np.argmax(model_d.predict(training_images[index].reshape(1, 28, 28, 1)))\n",
    "print(\"The first model prediction on the random image shown above is:\", model1_pred)\n",
    "print(\"The second model prediction on the random image shown above is:\", model2_pred)"
   ]
  },
  {
   "cell_type": "code",
   "execution_count": null,
   "metadata": {
    "colab": {},
    "colab_type": "code",
    "id": "N2nbyU_u__yi"
   },
   "outputs": [],
   "source": []
  }
 ],
 "metadata": {
  "accelerator": "GPU",
  "colab": {
   "name": "MNIST.ipynb",
   "provenance": []
  },
  "coursera": {
   "course_slug": "introduction-tensorflow",
   "graded_item_id": "ml06H",
   "launcher_item_id": "hQF8A"
  },
  "kernelspec": {
   "display_name": "Python 3",
   "language": "python",
   "name": "python3"
  },
  "language_info": {
   "codemirror_mode": {
    "name": "ipython",
    "version": 3
   },
   "file_extension": ".py",
   "mimetype": "text/x-python",
   "name": "python",
   "nbconvert_exporter": "python",
   "pygments_lexer": "ipython3",
   "version": "3.7.3"
  }
 },
 "nbformat": 4,
 "nbformat_minor": 1
}
