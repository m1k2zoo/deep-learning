{
  "nbformat": 4,
  "nbformat_minor": 0,
  "metadata": {
    "kernelspec": {
      "display_name": "Python 3",
      "language": "python",
      "name": "python3"
    },
    "language_info": {
      "codemirror_mode": {
        "name": "ipython",
        "version": 3
      },
      "file_extension": ".py",
      "mimetype": "text/x-python",
      "name": "python",
      "nbconvert_exporter": "python",
      "pygments_lexer": "ipython3",
      "version": "3.7.3"
    },
    "colab": {
      "name": "Untitled.ipynb",
      "provenance": []
    },
    "accelerator": "GPU"
  },
  "cells": [
    {
      "cell_type": "code",
      "metadata": {
        "id": "HDAjV-2jXOZO",
        "colab_type": "code",
        "colab": {}
      },
      "source": [
        "from tensorflow.keras.layers import Input, Dense\n",
        "from tensorflow.keras.models import Model\n",
        "from tensorflow.keras.layers import Input, Dense, Conv2D, MaxPooling2D, UpSampling2D\n",
        "from tensorflow.keras.models import Model\n",
        "from tensorflow.keras import backend as K\n",
        "import tensorflow as tf\n",
        "\n",
        "from random import randrange\n",
        "\n",
        "import numpy as np\n",
        "import matplotlib.pyplot as plt\n",
        "from os import path, getcwd, chdir"
      ],
      "execution_count": 1,
      "outputs": []
    },
    {
      "cell_type": "code",
      "metadata": {
        "id": "ITuodXpEXOZV",
        "colab_type": "code",
        "colab": {}
      },
      "source": [
        "path = f\"{getcwd()}/mnist.npz\"\n",
        "mnist = tf.keras.datasets.mnist\n",
        "(X_train, Y_train), (X_test, Y_test) = mnist.load_data(path=path)"
      ],
      "execution_count": 2,
      "outputs": []
    },
    {
      "cell_type": "code",
      "metadata": {
        "id": "9qyrLpAmXOZb",
        "colab_type": "code",
        "colab": {
          "base_uri": "https://localhost:8080/",
          "height": 298
        },
        "outputId": "eab58b37-c56b-4fd5-fa37-db40ad0a00d0"
      },
      "source": [
        "r = randrange(X_train.shape[0])\n",
        "plt.imshow(X_train[r], interpolation='nearest', cmap='gray')\n",
        "plt.title('plot of a random sign image')\n",
        "plt.show()\n",
        "print('label of shown image is', Y_train[r])"
      ],
      "execution_count": 3,
      "outputs": [
        {
          "output_type": "display_data",
          "data": {
            "image/png": "[encoded data removed]",
            "text/plain": [
              "<Figure size 432x288 with 1 Axes>"
            ]
          },
          "metadata": {
            "tags": [],
            "needs_background": "light"
          }
        },
        {
          "output_type": "stream",
          "text": [
            "label of shown image is 0\n"
          ],
          "name": "stdout"
        }
      ]
    },
    {
      "cell_type": "code",
      "metadata": {
        "id": "GXtxEbxvXOZh",
        "colab_type": "code",
        "colab": {
          "base_uri": "https://localhost:8080/",
          "height": 52
        },
        "outputId": "5232c6da-376d-4cbb-8783-0f19613ef832"
      },
      "source": [
        "print(\"X_train :\",X_train.shape,\n",
        "      \"Y_train :\",Y_train.shape,\n",
        "     \"\\nX_test :\",X_test.shape,\n",
        "     \"Y_test :\",Y_test.shape)"
      ],
      "execution_count": 4,
      "outputs": [
        {
          "output_type": "stream",
          "text": [
            "X_train : (60000, 28, 28) Y_train : (60000,) \n",
            "X_test : (10000, 28, 28) Y_test : (10000,)\n"
          ],
          "name": "stdout"
        }
      ]
    },
    {
      "cell_type": "code",
      "metadata": {
        "id": "SBtQJ3EvXOZn",
        "colab_type": "code",
        "colab": {}
      },
      "source": [
        "X_train = X_train.reshape(60000, 28, 28, 1)\n",
        "X_train = X_train.astype('float32')/255.\n",
        "X_test = X_test.reshape(10000, 28, 28, 1)\n",
        "X_test = X_test.astype('float32')/255.\n",
        "# K.clear_session()"
      ],
      "execution_count": 5,
      "outputs": []
    },
    {
      "cell_type": "code",
      "metadata": {
        "id": "ruBReQC-XOZt",
        "colab_type": "code",
        "colab": {
          "base_uri": "https://localhost:8080/",
          "height": 439
        },
        "outputId": "643c6c9b-0d67-44a2-ddc8-ba1a62b3001b"
      },
      "source": [
        "input_img = Input(shape=(28, 28, 1))\n",
        "\n",
        "x = Conv2D(16, (3, 3), activation='relu', padding='same')(input_img)\n",
        "x = MaxPooling2D((2, 2), padding='same')(x)\n",
        "x = Conv2D(8, (3, 3), activation='relu', padding='same')(x)\n",
        "x = MaxPooling2D((2, 2), padding='same')(x)\n",
        "x = Conv2D(8, (3, 3), activation='relu', padding='same')(x)\n",
        "x = MaxPooling2D((2, 2), padding='same')(x)\n",
        "encoded = Conv2D(4, (1,1), activation='relu', padding='same', name='encoded_img')(x)\n",
        "\n",
        "encoder = Model(input_img, encoded, name='encoder')\n",
        "encoder.summary()"
      ],
      "execution_count": 6,
      "outputs": [
        {
          "output_type": "stream",
          "text": [
            "Model: \"encoder\"\n",
            "_________________________________________________________________\n",
            "Layer (type)                 Output Shape              Param #   \n",
            "=================================================================\n",
            "input_1 (InputLayer)         [(None, 28, 28, 1)]       0         \n",
            "_________________________________________________________________\n",
            "conv2d (Conv2D)              (None, 28, 28, 16)        160       \n",
            "_________________________________________________________________\n",
            "max_pooling2d (MaxPooling2D) (None, 14, 14, 16)        0         \n",
            "_________________________________________________________________\n",
            "conv2d_1 (Conv2D)            (None, 14, 14, 8)         1160      \n",
            "_________________________________________________________________\n",
            "max_pooling2d_1 (MaxPooling2 (None, 7, 7, 8)           0         \n",
            "_________________________________________________________________\n",
            "conv2d_2 (Conv2D)            (None, 7, 7, 8)           584       \n",
            "_________________________________________________________________\n",
            "max_pooling2d_2 (MaxPooling2 (None, 4, 4, 8)           0         \n",
            "_________________________________________________________________\n",
            "encoded_img (Conv2D)         (None, 4, 4, 4)           36        \n",
            "=================================================================\n",
            "Total params: 1,940\n",
            "Trainable params: 1,940\n",
            "Non-trainable params: 0\n",
            "_________________________________________________________________\n"
          ],
          "name": "stdout"
        }
      ]
    },
    {
      "cell_type": "code",
      "metadata": {
        "id": "snQsQOsdXOZy",
        "colab_type": "code",
        "colab": {
          "base_uri": "https://localhost:8080/",
          "height": 686
        },
        "outputId": "68167b0c-97ae-48df-c786-c04a997873e5"
      },
      "source": [
        "x = Conv2D(8, (3, 3), activation='relu', padding='same')(encoded)\n",
        "x = UpSampling2D((2, 2))(x)\n",
        "x = Conv2D(8, (3, 3), activation='relu', padding='same')(x)\n",
        "x = UpSampling2D((2, 2))(x)\n",
        "x = Conv2D(16, (3, 3), activation='relu')(x)\n",
        "x = UpSampling2D((2, 2))(x)\n",
        "decoded = Conv2D(1, (3, 3), activation='sigmoid', padding='same', name='decoded_img')(x)\n",
        "\n",
        "autoencoder = Model(input_img, decoded, name='autoencoder')\n",
        "autoencoder.compile(optimizer='Adam', loss='binary_crossentropy')\n",
        "autoencoder.summary()"
      ],
      "execution_count": 7,
      "outputs": [
        {
          "output_type": "stream",
          "text": [
            "Model: \"autoencoder\"\n",
            "_________________________________________________________________\n",
            "Layer (type)                 Output Shape              Param #   \n",
            "=================================================================\n",
            "input_1 (InputLayer)         [(None, 28, 28, 1)]       0         \n",
            "_________________________________________________________________\n",
            "conv2d (Conv2D)              (None, 28, 28, 16)        160       \n",
            "_________________________________________________________________\n",
            "max_pooling2d (MaxPooling2D) (None, 14, 14, 16)        0         \n",
            "_________________________________________________________________\n",
            "conv2d_1 (Conv2D)            (None, 14, 14, 8)         1160      \n",
            "_________________________________________________________________\n",
            "max_pooling2d_1 (MaxPooling2 (None, 7, 7, 8)           0         \n",
            "_________________________________________________________________\n",
            "conv2d_2 (Conv2D)            (None, 7, 7, 8)           584       \n",
            "_________________________________________________________________\n",
            "max_pooling2d_2 (MaxPooling2 (None, 4, 4, 8)           0         \n",
            "_________________________________________________________________\n",
            "encoded_img (Conv2D)         (None, 4, 4, 4)           36        \n",
            "_________________________________________________________________\n",
            "conv2d_3 (Conv2D)            (None, 4, 4, 8)           296       \n",
            "_________________________________________________________________\n",
            "up_sampling2d (UpSampling2D) (None, 8, 8, 8)           0         \n",
            "_________________________________________________________________\n",
            "conv2d_4 (Conv2D)            (None, 8, 8, 8)           584       \n",
            "_________________________________________________________________\n",
            "up_sampling2d_1 (UpSampling2 (None, 16, 16, 8)         0         \n",
            "_________________________________________________________________\n",
            "conv2d_5 (Conv2D)            (None, 14, 14, 16)        1168      \n",
            "_________________________________________________________________\n",
            "up_sampling2d_2 (UpSampling2 (None, 28, 28, 16)        0         \n",
            "_________________________________________________________________\n",
            "decoded_img (Conv2D)         (None, 28, 28, 1)         145       \n",
            "=================================================================\n",
            "Total params: 4,133\n",
            "Trainable params: 4,133\n",
            "Non-trainable params: 0\n",
            "_________________________________________________________________\n"
          ],
          "name": "stdout"
        }
      ]
    },
    {
      "cell_type": "code",
      "metadata": {
        "id": "ASFQ2ZWGXOZ-",
        "colab_type": "code",
        "colab": {
          "base_uri": "https://localhost:8080/",
          "height": 1000
        },
        "outputId": "64fd794b-05f2-4926-ac34-8e71d080699b"
      },
      "source": [
        "history = autoencoder.fit(X_train, X_train,\n",
        "                epochs=50,\n",
        "                batch_size=32,\n",
        "                shuffle=True,\n",
        "                validation_data=(X_test, X_test))"
      ],
      "execution_count": 8,
      "outputs": [
        {
          "output_type": "stream",
          "text": [
            "Epoch 1/50\n",
            "1875/1875 [==============================] - 13s 7ms/step - loss: 0.1666 - val_loss: 0.1273\n",
            "Epoch 2/50\n",
            "1875/1875 [==============================] - 13s 7ms/step - loss: 0.1204 - val_loss: 0.1137\n",
            "Epoch 3/50\n",
            "1875/1875 [==============================] - 13s 7ms/step - loss: 0.1115 - val_loss: 0.1082\n",
            "Epoch 4/50\n",
            "1875/1875 [==============================] - 13s 7ms/step - loss: 0.1068 - val_loss: 0.1045\n",
            "Epoch 5/50\n",
            "1875/1875 [==============================] - 13s 7ms/step - loss: 0.1041 - val_loss: 0.1035\n",
            "Epoch 6/50\n",
            "1875/1875 [==============================] - 13s 7ms/step - loss: 0.1023 - val_loss: 0.1003\n",
            "Epoch 7/50\n",
            "1875/1875 [==============================] - 13s 7ms/step - loss: 0.1011 - val_loss: 0.0990\n",
            "Epoch 8/50\n",
            "1875/1875 [==============================] - 13s 7ms/step - loss: 0.1001 - val_loss: 0.0998\n",
            "Epoch 9/50\n",
            "1875/1875 [==============================] - 13s 7ms/step - loss: 0.0992 - val_loss: 0.0978\n",
            "Epoch 10/50\n",
            "1875/1875 [==============================] - 14s 7ms/step - loss: 0.0985 - val_loss: 0.0968\n",
            "Epoch 11/50\n",
            "1875/1875 [==============================] - 13s 7ms/step - loss: 0.0979 - val_loss: 0.0964\n",
            "Epoch 12/50\n",
            "1875/1875 [==============================] - 13s 7ms/step - loss: 0.0974 - val_loss: 0.0959\n",
            "Epoch 13/50\n",
            "1875/1875 [==============================] - 13s 7ms/step - loss: 0.0969 - val_loss: 0.0956\n",
            "Epoch 14/50\n",
            "1875/1875 [==============================] - 13s 7ms/step - loss: 0.0965 - val_loss: 0.0951\n",
            "Epoch 15/50\n",
            "1875/1875 [==============================] - 13s 7ms/step - loss: 0.0961 - val_loss: 0.0952\n",
            "Epoch 16/50\n",
            "1875/1875 [==============================] - 13s 7ms/step - loss: 0.0958 - val_loss: 0.0948\n",
            "Epoch 17/50\n",
            "1875/1875 [==============================] - 13s 7ms/step - loss: 0.0955 - val_loss: 0.0940\n",
            "Epoch 18/50\n",
            "1875/1875 [==============================] - 13s 7ms/step - loss: 0.0953 - val_loss: 0.0943\n",
            "Epoch 19/50\n",
            "1875/1875 [==============================] - 13s 7ms/step - loss: 0.0950 - val_loss: 0.0939\n",
            "Epoch 20/50\n",
            "1875/1875 [==============================] - 13s 7ms/step - loss: 0.0948 - val_loss: 0.0942\n",
            "Epoch 21/50\n",
            "1875/1875 [==============================] - 13s 7ms/step - loss: 0.0946 - val_loss: 0.0937\n",
            "Epoch 22/50\n",
            "1875/1875 [==============================] - 13s 7ms/step - loss: 0.0944 - val_loss: 0.0936\n",
            "Epoch 23/50\n",
            "1875/1875 [==============================] - 13s 7ms/step - loss: 0.0943 - val_loss: 0.0931\n",
            "Epoch 24/50\n",
            "1875/1875 [==============================] - 13s 7ms/step - loss: 0.0941 - val_loss: 0.0935\n",
            "Epoch 25/50\n",
            "1875/1875 [==============================] - 13s 7ms/step - loss: 0.0940 - val_loss: 0.0929\n",
            "Epoch 26/50\n",
            "1875/1875 [==============================] - 13s 7ms/step - loss: 0.0939 - val_loss: 0.0932\n",
            "Epoch 27/50\n",
            "1875/1875 [==============================] - 13s 7ms/step - loss: 0.0937 - val_loss: 0.0935\n",
            "Epoch 28/50\n",
            "1875/1875 [==============================] - 13s 7ms/step - loss: 0.0937 - val_loss: 0.0926\n",
            "Epoch 29/50\n",
            "1875/1875 [==============================] - 13s 7ms/step - loss: 0.0935 - val_loss: 0.0931\n",
            "Epoch 30/50\n",
            "1875/1875 [==============================] - 13s 7ms/step - loss: 0.0933 - val_loss: 0.0920\n",
            "Epoch 31/50\n",
            "1875/1875 [==============================] - 13s 7ms/step - loss: 0.0932 - val_loss: 0.0922\n",
            "Epoch 32/50\n",
            "1875/1875 [==============================] - 13s 7ms/step - loss: 0.0931 - val_loss: 0.0920\n",
            "Epoch 33/50\n",
            "1875/1875 [==============================] - 13s 7ms/step - loss: 0.0930 - val_loss: 0.0917\n",
            "Epoch 34/50\n",
            "1875/1875 [==============================] - 14s 7ms/step - loss: 0.0928 - val_loss: 0.0920\n",
            "Epoch 35/50\n",
            "1875/1875 [==============================] - 13s 7ms/step - loss: 0.0928 - val_loss: 0.0932\n",
            "Epoch 36/50\n",
            "1875/1875 [==============================] - 13s 7ms/step - loss: 0.0927 - val_loss: 0.0917\n",
            "Epoch 37/50\n",
            "1875/1875 [==============================] - 13s 7ms/step - loss: 0.0926 - val_loss: 0.0916\n",
            "Epoch 38/50\n",
            "1875/1875 [==============================] - 13s 7ms/step - loss: 0.0925 - val_loss: 0.0912\n",
            "Epoch 39/50\n",
            "1875/1875 [==============================] - 13s 7ms/step - loss: 0.0924 - val_loss: 0.0915\n",
            "Epoch 40/50\n",
            "1875/1875 [==============================] - 13s 7ms/step - loss: 0.0923 - val_loss: 0.0925\n",
            "Epoch 41/50\n",
            "1875/1875 [==============================] - 13s 7ms/step - loss: 0.0923 - val_loss: 0.0910\n",
            "Epoch 42/50\n",
            "1875/1875 [==============================] - 13s 7ms/step - loss: 0.0922 - val_loss: 0.0912\n",
            "Epoch 43/50\n",
            "1875/1875 [==============================] - 13s 7ms/step - loss: 0.0921 - val_loss: 0.0912\n",
            "Epoch 44/50\n",
            "1875/1875 [==============================] - 13s 7ms/step - loss: 0.0921 - val_loss: 0.0915\n",
            "Epoch 45/50\n",
            "1875/1875 [==============================] - 13s 7ms/step - loss: 0.0920 - val_loss: 0.0910\n",
            "Epoch 46/50\n",
            "1875/1875 [==============================] - 13s 7ms/step - loss: 0.0919 - val_loss: 0.0912\n",
            "Epoch 47/50\n",
            "1875/1875 [==============================] - 13s 7ms/step - loss: 0.0919 - val_loss: 0.0906\n",
            "Epoch 48/50\n",
            "1875/1875 [==============================] - 13s 7ms/step - loss: 0.0918 - val_loss: 0.0914\n",
            "Epoch 49/50\n",
            "1875/1875 [==============================] - 13s 7ms/step - loss: 0.0918 - val_loss: 0.0910\n",
            "Epoch 50/50\n",
            "1875/1875 [==============================] - 13s 7ms/step - loss: 0.0917 - val_loss: 0.0907\n"
          ],
          "name": "stdout"
        }
      ]
    },
    {
      "cell_type": "code",
      "metadata": {
        "id": "jEfhhoB-XOaD",
        "colab_type": "code",
        "colab": {
          "base_uri": "https://localhost:8080/",
          "height": 313
        },
        "outputId": "dfebc72b-1a77-4efe-96f2-821a4fbc1b32"
      },
      "source": [
        "print('Training loss after 50 epochs: %.4f'%history.history['loss'][-1])\n",
        "# plot the loss curves\n",
        "plt.plot(history.history['loss'])\n",
        "plt.plot(history.history['val_loss'])\n",
        "plt.title('model loss')\n",
        "plt.ylabel('loss')\n",
        "plt.xlabel('epoch')\n",
        "plt.legend(['train', 'validation'], loc='upper right')\n",
        "plt.show()"
      ],
      "execution_count": 9,
      "outputs": [
        {
          "output_type": "stream",
          "text": [
            "Training loss after 50 epochs: 0.0917\n"
          ],
          "name": "stdout"
        },
        {
          "output_type": "display_data",
          "data": {
            "image/png": "[encoded data removed]",
            "text/plain": [
              "<Figure size 432x288 with 1 Axes>"
            ]
          },
          "metadata": {
            "tags": [],
            "needs_background": "light"
          }
        }
      ]
    },
    {
      "cell_type": "code",
      "metadata": {
        "id": "65N7gdzVXOaI",
        "colab_type": "code",
        "colab": {
          "base_uri": "https://localhost:8080/",
          "height": 234
        },
        "outputId": "bb5431c9-695b-48e9-b3d8-72a4baf7fb98"
      },
      "source": [
        "n = 10\n",
        "plt.figure(figsize=(20, 4))\n",
        "for i in range(n):\n",
        "  r = randrange(X_test.shape[0])\n",
        "  # display original\n",
        "  ax = plt.subplot(2, n, i + 1)\n",
        "  plt.imshow(X_test[r].reshape(28, 28))\n",
        "  plt.gray()\n",
        "  ax.get_xaxis().set_visible(False)\n",
        "  ax.get_yaxis().set_visible(False)\n",
        "  # display reconstruction\n",
        "  ax = plt.subplot(2, n, i +1 + n)\n",
        "  plt.imshow(decoded_imgs[r].reshape(28, 28))\n",
        "  plt.gray()\n",
        "  ax.get_xaxis().set_visible(False)\n",
        "  ax.get_yaxis().set_visible(False)\n",
        "plt.show()"
      ],
      "execution_count": 11,
      "outputs": [
        {
          "output_type": "display_data",
          "data": {
            "image/png": "[encoded data removed]",
            "text/plain": [
              "<Figure size 1440x288 with 20 Axes>"
            ]
          },
          "metadata": {
            "tags": [],
            "needs_background": "light"
          }
        }
      ]
    },
    {
      "cell_type": "code",
      "metadata": {
        "id": "6SE3ACFfcShZ",
        "colab_type": "code",
        "colab": {
          "base_uri": "https://localhost:8080/",
          "height": 34
        },
        "outputId": "ed610a6a-134c-4488-d678-6d72d5f8d8fe"
      },
      "source": [
        "encoded_imgs = encoder.predict(X_test)\n",
        "encoded_imgs.shape"
      ],
      "execution_count": 13,
      "outputs": [
        {
          "output_type": "execute_result",
          "data": {
            "text/plain": [
              "(10000, 4, 4, 4)"
            ]
          },
          "metadata": {
            "tags": []
          },
          "execution_count": 13
        }
      ]
    },
    {
      "cell_type": "markdown",
      "metadata": {
        "id": "vq5kS9Dtf37j",
        "colab_type": "text"
      },
      "source": [
        "## Let us try to explore how the neural network is actually encoding the numbers. The following illustrates how two instances of 5 and 3 instances of 7 are encoded and then decoded. Note that each encoding consists of 4 channels, each with 16 pixels. "
      ]
    },
    {
      "cell_type": "code",
      "metadata": {
        "id": "OWNqjuVaXOaR",
        "colab_type": "code",
        "colab": {
          "base_uri": "https://localhost:8080/",
          "height": 574
        },
        "outputId": "9587792b-655e-4f0a-b232-9871e92501a8"
      },
      "source": [
        "n = 5\n",
        "I = [15, 23, 0, 4487, 8003]\n",
        "plt.figure(figsize=(20, 10))\n",
        "a = 1\n",
        "for i in range(n):\n",
        "  # display original\n",
        "  ax = plt.subplot(n, 6, a)\n",
        "  plt.imshow(X_test[I[i]].reshape(28, 28))\n",
        "  plt.gray()\n",
        "  ax.get_xaxis().set_visible(False)\n",
        "  ax.get_yaxis().set_visible(False)\n",
        "  a+=1\n",
        "  # display encodings\n",
        "  ax = plt.subplot(n, 6, a)\n",
        "  plt.imshow(encoded_imgs[I[i],:,:,0])\n",
        "  plt.gray()\n",
        "  ax.get_xaxis().set_visible(False)\n",
        "  ax.get_yaxis().set_visible(False)\n",
        "  a+=1\n",
        "  ax = plt.subplot(n, 6, a)\n",
        "  plt.imshow(encoded_imgs[I[i],:,:,1])\n",
        "  plt.gray()\n",
        "  ax.get_xaxis().set_visible(False)\n",
        "  ax.get_yaxis().set_visible(False)\n",
        "  a+=1\n",
        "  ax = plt.subplot(n, 6, a)\n",
        "  plt.imshow(encoded_imgs[I[i],:,:,2])\n",
        "  plt.gray()\n",
        "  ax.get_xaxis().set_visible(False)\n",
        "  ax.get_yaxis().set_visible(False)\n",
        "  a+=1\n",
        "  ax = plt.subplot(n, 6, a)\n",
        "  plt.imshow(encoded_imgs[I[i],:,:,3])\n",
        "  plt.gray()\n",
        "  ax.get_xaxis().set_visible(False)\n",
        "  ax.get_yaxis().set_visible(False)\n",
        "  a+=1\n",
        "  # display reconstruction\n",
        "  ax = plt.subplot(n, 6, a)\n",
        "  plt.imshow(decoded_imgs[I[i]].reshape(28, 28))\n",
        "  plt.gray()\n",
        "  ax.get_xaxis().set_visible(False)\n",
        "  ax.get_yaxis().set_visible(False)\n",
        "  a+=1\n",
        "plt.show()"
      ],
      "execution_count": 60,
      "outputs": [
        {
          "output_type": "display_data",
          "data": {
            "image/png": "[encoded data removed]",
            "text/plain": [
              "<Figure size 1440x720 with 30 Axes>"
            ]
          },
          "metadata": {
            "tags": [],
            "needs_background": "light"
          }
        }
      ]
    }
  ]
}