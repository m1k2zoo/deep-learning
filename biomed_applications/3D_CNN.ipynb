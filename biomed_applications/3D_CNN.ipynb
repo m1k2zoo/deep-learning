{
  "nbformat": 4,
  "nbformat_minor": 0,
  "metadata": {
    "kernelspec": {
      "display_name": "Python 3",
      "language": "python",
      "name": "python3"
    },
    "language_info": {
      "codemirror_mode": {
        "name": "ipython",
        "version": 3
      },
      "file_extension": ".py",
      "mimetype": "text/x-python",
      "name": "python",
      "nbconvert_exporter": "python",
      "pygments_lexer": "ipython3",
      "version": "3.7.3"
    },
    "colab": {
      "name": "3D_CNN.ipynb",
      "provenance": [],
      "toc_visible": true
    },
    "accelerator": "GPU"
  },
  "cells": [
    {
      "cell_type": "code",
      "metadata": {
        "id": "8TNZ7wuExiSZ",
        "colab_type": "code",
        "colab": {
          "base_uri": "https://localhost:8080/",
          "height": 126
        },
        "outputId": "0f8ab543-406f-445a-f9a8-da397cc289d8"
      },
      "source": [
        "!unzip 3D_mnist.zip"
      ],
      "execution_count": 2,
      "outputs": [
        {
          "output_type": "stream",
          "text": [
            "Archive:  3D_mnist.zip\n",
            "  inflating: full_dataset_vectors.h5  \n",
            "  inflating: plot3D.py               \n",
            "  inflating: test_point_clouds.h5    \n",
            "  inflating: train_point_clouds.h5   \n",
            "  inflating: voxelgrid.py            \n"
          ],
          "name": "stdout"
        }
      ]
    },
    {
      "cell_type": "code",
      "metadata": {
        "id": "96lsKEuDxT5b",
        "colab_type": "code",
        "colab": {}
      },
      "source": [
        "import os\n",
        "import h5py\n",
        "import numpy as np\n",
        "import pandas as pd\n",
        "import matplotlib.cm as cm\n",
        "import matplotlib.pyplot as plt\n",
        "from mpl_toolkits.mplot3d import Axes3D\n",
        "\n",
        "from sklearn.model_selection import train_test_split\n",
        "from sklearn.metrics import confusion_matrix, accuracy_score\n",
        "\n",
        "from tensorflow.keras.models import Sequential\n",
        "from tensorflow.keras.utils import to_categorical\n",
        "from tensorflow.keras.optimizers import Adam\n",
        "from tensorflow.keras.callbacks import EarlyStopping, LearningRateScheduler\n",
        "from tensorflow.keras.preprocessing.image import ImageDataGenerator\n",
        "from tensorflow.keras.layers import Dense, Dropout, Flatten, Conv3D, BatchNormalization, MaxPooling3D"
      ],
      "execution_count": 1,
      "outputs": []
    },
    {
      "cell_type": "code",
      "metadata": {
        "id": "o7U5rJgExT5m",
        "colab_type": "code",
        "colab": {
          "base_uri": "https://localhost:8080/",
          "height": 35
        },
        "outputId": "c93e8416-126a-4833-f519-17f6b22b1dd1"
      },
      "source": [
        "with h5py.File('full_dataset_vectors.h5', 'r') as dataset:\n",
        "    X_train = dataset[\"X_train\"][:]\n",
        "    X_test  = dataset[\"X_test\"][:]\n",
        "    y_train = dataset[\"y_train\"][:]\n",
        "    y_test  = dataset[\"y_test\"][:]\n",
        "    \n",
        "print(f'X_train shape: {X_train.shape}, X_test shape: {X_test.shape}')"
      ],
      "execution_count": 4,
      "outputs": [
        {
          "output_type": "stream",
          "text": [
            "X_train shape: (10000, 4096), X_test shape: (2000, 4096)\n"
          ],
          "name": "stdout"
        }
      ]
    },
    {
      "cell_type": "code",
      "metadata": {
        "id": "xTovd4moxT50",
        "colab_type": "code",
        "colab": {
          "base_uri": "https://localhost:8080/",
          "height": 248
        },
        "outputId": "339cdeea-ac9a-4ca3-ea6a-e8421d697c22"
      },
      "source": [
        "with h5py.File('train_point_clouds.h5', 'r') as hf:\n",
        "    n_rows, n_cols = 1, 5\n",
        "    fig = plt.figure(figsize=(20, 4))\n",
        "    \n",
        "    for i in range(n_cols):\n",
        "        a = hf[str(i)]\n",
        "        digit = (a[\"img\"][:], a[\"points\"][:], a.attrs[\"label\"]) \n",
        "        ax = fig.add_subplot(1, n_cols, i+1, projection='3d')\n",
        "    \n",
        "        X = a[\"points\"][:][:,0]\n",
        "        Y = a[\"points\"][:][:,1]\n",
        "        Z = a[\"points\"][:][:,2]\n",
        "\n",
        "        ax.scatter(X, Y, Z)\n",
        "        ax.view_init(5, 5)\n",
        "        ax.axis('off')"
      ],
      "execution_count": 6,
      "outputs": [
        {
          "output_type": "display_data",
          "data": {
            "image/png": "[encoded data removed]",
            "text/plain": [
              "<Figure size 1440x288 with 5 Axes>"
            ]
          },
          "metadata": {
            "tags": [],
            "needs_background": "light"
          }
        }
      ]
    },
    {
      "cell_type": "markdown",
      "metadata": {
        "id": "RbLESOqAxT59",
        "colab_type": "text"
      },
      "source": [
        "### Reshape to 3D images"
      ]
    },
    {
      "cell_type": "code",
      "metadata": {
        "id": "bhT_z2S2xT5_",
        "colab_type": "code",
        "colab": {
          "base_uri": "https://localhost:8080/",
          "height": 35
        },
        "outputId": "0641d678-4388-4610-cafc-767641775f18"
      },
      "source": [
        "X_train_shaped = np.ndarray((X_train.shape[0], 4096, 3))\n",
        "X_test_shaped  = np.ndarray((X_test.shape[0], 4096, 3))\n",
        "\n",
        "def array_to_color(array):\n",
        "    scaler_map = cm.ScalarMappable(cmap=\"Oranges\")\n",
        "    array = scaler_map.to_rgba(array)[:, : -1]\n",
        "    return array\n",
        "\n",
        "for i in range(X_train_shaped.shape[0]):\n",
        "    X_train_shaped[i] = array_to_color(X_train[i])\n",
        "    \n",
        "for i in range(X_test_shaped.shape[0]):\n",
        "    X_test_shaped[i] = array_to_color(X_test[i])\n",
        "\n",
        "X_train = np.reshape(X_train_shaped, (X_train_shaped.shape[0], 16, 16, 16, 3))\n",
        "X_test  = np.reshape(X_test_shaped, (X_test_shaped.shape[0], 16, 16, 16, 3))\n",
        "    \n",
        "print(f'X_train shape: {X_train.shape}, X_test shape: {X_test.shape}')"
      ],
      "execution_count": 7,
      "outputs": [
        {
          "output_type": "stream",
          "text": [
            "X_train shape: (10000, 16, 16, 16, 3), X_test shape: (2000, 16, 16, 16, 3)\n"
          ],
          "name": "stdout"
        }
      ]
    },
    {
      "cell_type": "code",
      "metadata": {
        "id": "gE58bKNVxT6J",
        "colab_type": "code",
        "colab": {
          "base_uri": "https://localhost:8080/",
          "height": 35
        },
        "outputId": "75132888-959e-41ef-db2c-4fb58a106163"
      },
      "source": [
        "y_train = to_categorical(y_train, 10)\n",
        "y_test  = to_categorical(y_test, 10)\n",
        "\n",
        "print(f'y_train shape: {y_train.shape}, y_test shape: {y_test.shape}')"
      ],
      "execution_count": 8,
      "outputs": [
        {
          "output_type": "stream",
          "text": [
            "y_train shape: (10000, 10), y_test shape: (2000, 10)\n"
          ],
          "name": "stdout"
        }
      ]
    },
    {
      "cell_type": "code",
      "metadata": {
        "id": "msTPf_0PxT6R",
        "colab_type": "code",
        "colab": {}
      },
      "source": [
        "def my_model():\n",
        "    # create the CNN model\n",
        "    model = Sequential([\n",
        "        Conv3D(16, (3,3,3), activation='relu', padding='same', input_shape=(16, 16, 16, 3)),\n",
        "        BatchNormalization(),\n",
        "        MaxPooling3D(pool_size=(2, 2, 2), strides=2),\n",
        "        Conv3D(32, (3,3,3), activation='relu', padding='same'),\n",
        "        BatchNormalization(),\n",
        "        MaxPooling3D(pool_size=(2, 2, 2), strides=2),\n",
        "        Conv3D(128, (3,3,3), activation='relu', padding='same'),\n",
        "        BatchNormalization(),\n",
        "        MaxPooling3D(pool_size=(2, 2, 2), strides=2),\n",
        "        Flatten(),\n",
        "        Dropout(0.3),\n",
        "        Dense(256, activation='relu'),\n",
        "        Dropout(0.2),\n",
        "        Dense(64, activation='relu'),\n",
        "        Dropout(0.2),\n",
        "        Dense(10, activation='softmax')\n",
        "    ], name='3D_mnist_model')\n",
        "    return model"
      ],
      "execution_count": 9,
      "outputs": []
    },
    {
      "cell_type": "code",
      "metadata": {
        "id": "4BlvYsbNxT6a",
        "colab_type": "code",
        "colab": {
          "base_uri": "https://localhost:8080/",
          "height": 745
        },
        "outputId": "784fccfe-d908-47ea-a26a-1539a7c8beb3"
      },
      "source": [
        "model = my_model()\n",
        "model.summary()"
      ],
      "execution_count": 10,
      "outputs": [
        {
          "output_type": "stream",
          "text": [
            "Model: \"3D_mnist_model\"\n",
            "_________________________________________________________________\n",
            "Layer (type)                 Output Shape              Param #   \n",
            "=================================================================\n",
            "conv3d (Conv3D)              (None, 16, 16, 16, 16)    1312      \n",
            "_________________________________________________________________\n",
            "batch_normalization (BatchNo (None, 16, 16, 16, 16)    64        \n",
            "_________________________________________________________________\n",
            "max_pooling3d (MaxPooling3D) (None, 8, 8, 8, 16)       0         \n",
            "_________________________________________________________________\n",
            "conv3d_1 (Conv3D)            (None, 8, 8, 8, 32)       13856     \n",
            "_________________________________________________________________\n",
            "batch_normalization_1 (Batch (None, 8, 8, 8, 32)       128       \n",
            "_________________________________________________________________\n",
            "max_pooling3d_1 (MaxPooling3 (None, 4, 4, 4, 32)       0         \n",
            "_________________________________________________________________\n",
            "conv3d_2 (Conv3D)            (None, 4, 4, 4, 128)      110720    \n",
            "_________________________________________________________________\n",
            "batch_normalization_2 (Batch (None, 4, 4, 4, 128)      512       \n",
            "_________________________________________________________________\n",
            "max_pooling3d_2 (MaxPooling3 (None, 2, 2, 2, 128)      0         \n",
            "_________________________________________________________________\n",
            "flatten (Flatten)            (None, 1024)              0         \n",
            "_________________________________________________________________\n",
            "dropout (Dropout)            (None, 1024)              0         \n",
            "_________________________________________________________________\n",
            "dense (Dense)                (None, 256)               262400    \n",
            "_________________________________________________________________\n",
            "dropout_1 (Dropout)          (None, 256)               0         \n",
            "_________________________________________________________________\n",
            "dense_1 (Dense)              (None, 64)                16448     \n",
            "_________________________________________________________________\n",
            "dropout_2 (Dropout)          (None, 64)                0         \n",
            "_________________________________________________________________\n",
            "dense_2 (Dense)              (None, 10)                650       \n",
            "=================================================================\n",
            "Total params: 406,090\n",
            "Trainable params: 405,738\n",
            "Non-trainable params: 352\n",
            "_________________________________________________________________\n"
          ],
          "name": "stdout"
        }
      ]
    },
    {
      "cell_type": "code",
      "metadata": {
        "id": "92kD57-TxT6j",
        "colab_type": "code",
        "colab": {
          "base_uri": "https://localhost:8080/",
          "height": 1000
        },
        "outputId": "d6f0d0c5-59a3-4d82-bc41-dd527ad57d97"
      },
      "source": [
        "# compile the model\n",
        "model.compile(optimizer='Adam', loss='categorical_crossentropy',metrics=['accuracy'])\n",
        "# fit the parameters\n",
        "history = model.fit(\n",
        "    X_train,\n",
        "    y_train,\n",
        "    batch_size=64,\n",
        "    epochs=100)"
      ],
      "execution_count": 11,
      "outputs": [
        {
          "output_type": "stream",
          "text": [
            "Epoch 1/100\n",
            "157/157 [==============================] - 3s 20ms/step - loss: 2.2328 - accuracy: 0.1851\n",
            "Epoch 2/100\n",
            "157/157 [==============================] - 3s 19ms/step - loss: 1.5710 - accuracy: 0.4489\n",
            "Epoch 3/100\n",
            "157/157 [==============================] - 3s 20ms/step - loss: 1.2738 - accuracy: 0.5580\n",
            "Epoch 4/100\n",
            "157/157 [==============================] - 3s 19ms/step - loss: 1.1488 - accuracy: 0.6011\n",
            "Epoch 5/100\n",
            "157/157 [==============================] - 3s 19ms/step - loss: 1.0722 - accuracy: 0.6283\n",
            "Epoch 6/100\n",
            "157/157 [==============================] - 3s 19ms/step - loss: 1.0137 - accuracy: 0.6464\n",
            "Epoch 7/100\n",
            "157/157 [==============================] - 3s 19ms/step - loss: 0.9457 - accuracy: 0.6665\n",
            "Epoch 8/100\n",
            "157/157 [==============================] - 3s 20ms/step - loss: 0.9040 - accuracy: 0.6839\n",
            "Epoch 9/100\n",
            "157/157 [==============================] - 3s 19ms/step - loss: 0.8678 - accuracy: 0.6990\n",
            "Epoch 10/100\n",
            "157/157 [==============================] - 3s 20ms/step - loss: 0.8143 - accuracy: 0.7204\n",
            "Epoch 11/100\n",
            "157/157 [==============================] - 3s 20ms/step - loss: 0.7677 - accuracy: 0.7367\n",
            "Epoch 12/100\n",
            "157/157 [==============================] - 3s 20ms/step - loss: 0.7333 - accuracy: 0.7458\n",
            "Epoch 13/100\n",
            "157/157 [==============================] - 3s 20ms/step - loss: 0.6933 - accuracy: 0.7599\n",
            "Epoch 14/100\n",
            "157/157 [==============================] - 3s 20ms/step - loss: 0.6517 - accuracy: 0.7762\n",
            "Epoch 15/100\n",
            "157/157 [==============================] - 3s 20ms/step - loss: 0.6222 - accuracy: 0.7837\n",
            "Epoch 16/100\n",
            "157/157 [==============================] - 3s 20ms/step - loss: 0.5789 - accuracy: 0.7973\n",
            "Epoch 17/100\n",
            "157/157 [==============================] - 3s 20ms/step - loss: 0.5551 - accuracy: 0.8092\n",
            "Epoch 18/100\n",
            "157/157 [==============================] - 3s 20ms/step - loss: 0.5237 - accuracy: 0.8197\n",
            "Epoch 19/100\n",
            "157/157 [==============================] - 3s 20ms/step - loss: 0.4722 - accuracy: 0.8319\n",
            "Epoch 20/100\n",
            "157/157 [==============================] - 3s 19ms/step - loss: 0.4611 - accuracy: 0.8422\n",
            "Epoch 21/100\n",
            "157/157 [==============================] - 3s 19ms/step - loss: 0.4353 - accuracy: 0.8498\n",
            "Epoch 22/100\n",
            "157/157 [==============================] - 3s 19ms/step - loss: 0.4042 - accuracy: 0.8582\n",
            "Epoch 23/100\n",
            "157/157 [==============================] - 3s 20ms/step - loss: 0.3682 - accuracy: 0.8718\n",
            "Epoch 24/100\n",
            "157/157 [==============================] - 3s 20ms/step - loss: 0.3507 - accuracy: 0.8777\n",
            "Epoch 25/100\n",
            "157/157 [==============================] - 3s 19ms/step - loss: 0.3491 - accuracy: 0.8820\n",
            "Epoch 26/100\n",
            "157/157 [==============================] - 3s 20ms/step - loss: 0.3092 - accuracy: 0.8931\n",
            "Epoch 27/100\n",
            "157/157 [==============================] - 3s 19ms/step - loss: 0.2773 - accuracy: 0.9027\n",
            "Epoch 28/100\n",
            "157/157 [==============================] - 3s 20ms/step - loss: 0.2504 - accuracy: 0.9157\n",
            "Epoch 29/100\n",
            "157/157 [==============================] - 3s 19ms/step - loss: 0.2424 - accuracy: 0.9183\n",
            "Epoch 30/100\n",
            "157/157 [==============================] - 3s 19ms/step - loss: 0.2245 - accuracy: 0.9245\n",
            "Epoch 31/100\n",
            "157/157 [==============================] - 3s 19ms/step - loss: 0.2113 - accuracy: 0.9303\n",
            "Epoch 32/100\n",
            "157/157 [==============================] - 3s 19ms/step - loss: 0.2028 - accuracy: 0.9332\n",
            "Epoch 33/100\n",
            "157/157 [==============================] - 3s 20ms/step - loss: 0.1921 - accuracy: 0.9347\n",
            "Epoch 34/100\n",
            "157/157 [==============================] - 3s 20ms/step - loss: 0.1858 - accuracy: 0.9385\n",
            "Epoch 35/100\n",
            "157/157 [==============================] - 3s 20ms/step - loss: 0.1852 - accuracy: 0.9385\n",
            "Epoch 36/100\n",
            "157/157 [==============================] - 3s 20ms/step - loss: 0.1593 - accuracy: 0.9511\n",
            "Epoch 37/100\n",
            "157/157 [==============================] - 3s 20ms/step - loss: 0.1639 - accuracy: 0.9459\n",
            "Epoch 38/100\n",
            "157/157 [==============================] - 3s 20ms/step - loss: 0.1561 - accuracy: 0.9488\n",
            "Epoch 39/100\n",
            "157/157 [==============================] - 3s 20ms/step - loss: 0.1507 - accuracy: 0.9522\n",
            "Epoch 40/100\n",
            "157/157 [==============================] - 3s 20ms/step - loss: 0.1373 - accuracy: 0.9563\n",
            "Epoch 41/100\n",
            "157/157 [==============================] - 3s 20ms/step - loss: 0.1446 - accuracy: 0.9526\n",
            "Epoch 42/100\n",
            "157/157 [==============================] - 3s 20ms/step - loss: 0.1209 - accuracy: 0.9626\n",
            "Epoch 43/100\n",
            "157/157 [==============================] - 3s 20ms/step - loss: 0.1251 - accuracy: 0.9596\n",
            "Epoch 44/100\n",
            "157/157 [==============================] - 3s 20ms/step - loss: 0.1269 - accuracy: 0.9582\n",
            "Epoch 45/100\n",
            "157/157 [==============================] - 3s 20ms/step - loss: 0.1196 - accuracy: 0.9628\n",
            "Epoch 46/100\n",
            "157/157 [==============================] - 3s 19ms/step - loss: 0.1308 - accuracy: 0.9600\n",
            "Epoch 47/100\n",
            "157/157 [==============================] - 3s 20ms/step - loss: 0.1098 - accuracy: 0.9667\n",
            "Epoch 48/100\n",
            "157/157 [==============================] - 3s 20ms/step - loss: 0.0954 - accuracy: 0.9683\n",
            "Epoch 49/100\n",
            "157/157 [==============================] - 3s 20ms/step - loss: 0.0939 - accuracy: 0.9720\n",
            "Epoch 50/100\n",
            "157/157 [==============================] - 3s 20ms/step - loss: 0.0974 - accuracy: 0.9693\n",
            "Epoch 51/100\n",
            "157/157 [==============================] - 3s 20ms/step - loss: 0.1206 - accuracy: 0.9626\n",
            "Epoch 52/100\n",
            "157/157 [==============================] - 3s 20ms/step - loss: 0.1097 - accuracy: 0.9660\n",
            "Epoch 53/100\n",
            "157/157 [==============================] - 3s 19ms/step - loss: 0.1096 - accuracy: 0.9663\n",
            "Epoch 54/100\n",
            "157/157 [==============================] - 3s 19ms/step - loss: 0.0906 - accuracy: 0.9707\n",
            "Epoch 55/100\n",
            "157/157 [==============================] - 3s 19ms/step - loss: 0.0782 - accuracy: 0.9745\n",
            "Epoch 56/100\n",
            "157/157 [==============================] - 3s 20ms/step - loss: 0.0982 - accuracy: 0.9679\n",
            "Epoch 57/100\n",
            "157/157 [==============================] - 3s 20ms/step - loss: 0.0915 - accuracy: 0.9710\n",
            "Epoch 58/100\n",
            "157/157 [==============================] - 3s 20ms/step - loss: 0.0914 - accuracy: 0.9714\n",
            "Epoch 59/100\n",
            "157/157 [==============================] - 3s 20ms/step - loss: 0.0773 - accuracy: 0.9761\n",
            "Epoch 60/100\n",
            "157/157 [==============================] - 3s 20ms/step - loss: 0.0807 - accuracy: 0.9761\n",
            "Epoch 61/100\n",
            "157/157 [==============================] - 3s 20ms/step - loss: 0.0857 - accuracy: 0.9731\n",
            "Epoch 62/100\n",
            "157/157 [==============================] - 3s 20ms/step - loss: 0.0860 - accuracy: 0.9734\n",
            "Epoch 63/100\n",
            "157/157 [==============================] - 3s 20ms/step - loss: 0.0722 - accuracy: 0.9782\n",
            "Epoch 64/100\n",
            "157/157 [==============================] - 3s 19ms/step - loss: 0.0864 - accuracy: 0.9724\n",
            "Epoch 65/100\n",
            "157/157 [==============================] - 3s 20ms/step - loss: 0.0863 - accuracy: 0.9748\n",
            "Epoch 66/100\n",
            "157/157 [==============================] - 3s 20ms/step - loss: 0.0790 - accuracy: 0.9755\n",
            "Epoch 67/100\n",
            "157/157 [==============================] - 3s 20ms/step - loss: 0.0762 - accuracy: 0.9757\n",
            "Epoch 68/100\n",
            "157/157 [==============================] - 3s 20ms/step - loss: 0.0650 - accuracy: 0.9793\n",
            "Epoch 69/100\n",
            "157/157 [==============================] - 3s 20ms/step - loss: 0.0720 - accuracy: 0.9788\n",
            "Epoch 70/100\n",
            "157/157 [==============================] - 3s 20ms/step - loss: 0.0771 - accuracy: 0.9751\n",
            "Epoch 71/100\n",
            "157/157 [==============================] - 3s 20ms/step - loss: 0.0818 - accuracy: 0.9744\n",
            "Epoch 72/100\n",
            "157/157 [==============================] - 3s 20ms/step - loss: 0.0758 - accuracy: 0.9752\n",
            "Epoch 73/100\n",
            "157/157 [==============================] - 3s 20ms/step - loss: 0.0689 - accuracy: 0.9775\n",
            "Epoch 74/100\n",
            "157/157 [==============================] - 3s 20ms/step - loss: 0.0705 - accuracy: 0.9779\n",
            "Epoch 75/100\n",
            "157/157 [==============================] - 3s 19ms/step - loss: 0.0584 - accuracy: 0.9806\n",
            "Epoch 76/100\n",
            "157/157 [==============================] - 3s 20ms/step - loss: 0.0562 - accuracy: 0.9822\n",
            "Epoch 77/100\n",
            "157/157 [==============================] - 3s 20ms/step - loss: 0.0687 - accuracy: 0.9788\n",
            "Epoch 78/100\n",
            "157/157 [==============================] - 3s 20ms/step - loss: 0.0636 - accuracy: 0.9786\n",
            "Epoch 79/100\n",
            "157/157 [==============================] - 3s 20ms/step - loss: 0.0625 - accuracy: 0.9806\n",
            "Epoch 80/100\n",
            "157/157 [==============================] - 3s 20ms/step - loss: 0.0574 - accuracy: 0.9830\n",
            "Epoch 81/100\n",
            "157/157 [==============================] - 3s 20ms/step - loss: 0.0592 - accuracy: 0.9813\n",
            "Epoch 82/100\n",
            "157/157 [==============================] - 3s 20ms/step - loss: 0.0689 - accuracy: 0.9800\n",
            "Epoch 83/100\n",
            "157/157 [==============================] - 3s 20ms/step - loss: 0.0724 - accuracy: 0.9790\n",
            "Epoch 84/100\n",
            "157/157 [==============================] - 3s 20ms/step - loss: 0.0663 - accuracy: 0.9798\n",
            "Epoch 85/100\n",
            "157/157 [==============================] - 3s 20ms/step - loss: 0.0577 - accuracy: 0.9821\n",
            "Epoch 86/100\n",
            "157/157 [==============================] - 3s 20ms/step - loss: 0.0497 - accuracy: 0.9822\n",
            "Epoch 87/100\n",
            "157/157 [==============================] - 3s 20ms/step - loss: 0.0639 - accuracy: 0.9807\n",
            "Epoch 88/100\n",
            "157/157 [==============================] - 3s 20ms/step - loss: 0.0594 - accuracy: 0.9806\n",
            "Epoch 89/100\n",
            "157/157 [==============================] - 3s 20ms/step - loss: 0.0579 - accuracy: 0.9842\n",
            "Epoch 90/100\n",
            "157/157 [==============================] - 3s 20ms/step - loss: 0.0700 - accuracy: 0.9804\n",
            "Epoch 91/100\n",
            "157/157 [==============================] - 3s 20ms/step - loss: 0.0554 - accuracy: 0.9834\n",
            "Epoch 92/100\n",
            "157/157 [==============================] - 3s 20ms/step - loss: 0.0436 - accuracy: 0.9862\n",
            "Epoch 93/100\n",
            "157/157 [==============================] - 3s 20ms/step - loss: 0.0543 - accuracy: 0.9828\n",
            "Epoch 94/100\n",
            "157/157 [==============================] - 3s 20ms/step - loss: 0.0495 - accuracy: 0.9854\n",
            "Epoch 95/100\n",
            "157/157 [==============================] - 3s 20ms/step - loss: 0.0529 - accuracy: 0.9846\n",
            "Epoch 96/100\n",
            "157/157 [==============================] - 3s 20ms/step - loss: 0.0532 - accuracy: 0.9839\n",
            "Epoch 97/100\n",
            "157/157 [==============================] - 3s 20ms/step - loss: 0.0446 - accuracy: 0.9856\n",
            "Epoch 98/100\n",
            "157/157 [==============================] - 3s 20ms/step - loss: 0.0394 - accuracy: 0.9879\n",
            "Epoch 99/100\n",
            "157/157 [==============================] - 3s 20ms/step - loss: 0.0499 - accuracy: 0.9861\n",
            "Epoch 100/100\n",
            "157/157 [==============================] - 3s 20ms/step - loss: 0.0579 - accuracy: 0.9823\n"
          ],
          "name": "stdout"
        }
      ]
    },
    {
      "cell_type": "code",
      "metadata": {
        "id": "Ys8F2dkoxT6r",
        "colab_type": "code",
        "colab": {
          "base_uri": "https://localhost:8080/",
          "height": 331
        },
        "outputId": "89cb0f01-5d59-4d8a-e8f1-8aafa3770c23"
      },
      "source": [
        "print('Training accuracy after 100 epochs: %.4f'%history.history['accuracy'][-1])\n",
        "print('Training loss after 100 epochs: %.4f'%history.history['loss'][-1])\n",
        "# plot the accuracy and loss curves\n",
        "plt.plot(history.history['loss'])\n",
        "plt.plot(history.history['accuracy'])\n",
        "plt.title('model training')\n",
        "plt.ylabel('loss/accuracy')\n",
        "plt.xlabel('epoch')\n",
        "plt.legend(['loss', 'accuracy'], loc='upper right')\n",
        "plt.show()"
      ],
      "execution_count": 15,
      "outputs": [
        {
          "output_type": "stream",
          "text": [
            "Training accuracy after 100 epochs: 0.9823\n",
            "Training loss after 100 epochs: 0.0579\n"
          ],
          "name": "stdout"
        },
        {
          "output_type": "display_data",
          "data": {
            "image/png": "[encoded data removed]",
            "text/plain": [
              "<Figure size 432x288 with 1 Axes>"
            ]
          },
          "metadata": {
            "tags": [],
            "needs_background": "light"
          }
        }
      ]
    },
    {
      "cell_type": "code",
      "metadata": {
        "id": "SJqqpO2Z00AA",
        "colab_type": "code",
        "colab": {
          "base_uri": "https://localhost:8080/",
          "height": 90
        },
        "outputId": "f5b012ca-6fdd-46ef-b670-a25707fe160e"
      },
      "source": [
        "print('Let us evaluate our model on the test set')\n",
        "mse, acc = model.evaluate(X_test, y_test)\n",
        "print('mean_squared_error :', mse)\n",
        "print('accuracy:', acc)"
      ],
      "execution_count": 16,
      "outputs": [
        {
          "output_type": "stream",
          "text": [
            "Let us evaluate our model on the test set\n",
            "63/63 [==============================] - 0s 5ms/step - loss: 1.5555 - accuracy: 0.7345\n",
            "mean_squared_error : 1.555484652519226\n",
            "accuracy: 0.734499990940094\n"
          ],
          "name": "stdout"
        }
      ]
    },
    {
      "cell_type": "markdown",
      "metadata": {
        "colab_type": "text",
        "id": "ZDpOXXYW17r7"
      },
      "source": [
        "### We can see that the model performs well on the training set, but it does not do as well on the test set. A better regularized architecture is necessary to do well on both. Moreover, collecting more data and creating a validation set that is from the same distribution as the test set would be helpful to fine tune the parameters of the model before testing it."
      ]
    }
  ]
}