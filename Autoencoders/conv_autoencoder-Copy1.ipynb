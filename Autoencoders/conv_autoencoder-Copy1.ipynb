{
 "cells": [
  {
   "cell_type": "code",
   "execution_count": 1,
   "metadata": {
    "colab": {},
    "colab_type": "code",
    "id": "HDAjV-2jXOZO"
   },
   "outputs": [],
   "source": [
    "from tensorflow.keras.layers import Input, Dense\n",
    "from tensorflow.keras.models import Model\n",
    "from tensorflow.keras.layers import Input, Dense, Conv2D, MaxPooling2D, UpSampling2D\n",
    "from tensorflow.keras.models import Model\n",
    "from tensorflow.keras import backend as K\n",
    "import tensorflow as tf\n",
    "\n",
    "from random import randrange\n",
    "\n",
    "import numpy as np\n",
    "import matplotlib.pyplot as plt\n",
    "from os import path, getcwd, chdir"
   ]
  },
  {
   "cell_type": "code",
   "execution_count": 2,
   "metadata": {
    "colab": {},
    "colab_type": "code",
    "id": "ITuodXpEXOZV"
   },
   "outputs": [],
   "source": [
    "path = f\"{getcwd()}/mnist.npz\"\n",
    "mnist = tf.keras.datasets.mnist\n",
    "(X_train, Y_train), (X_test, Y_test) = mnist.load_data(path=path)"
   ]
  },
  {
   "cell_type": "code",
   "execution_count": 3,
   "metadata": {
    "colab": {
     "base_uri": "https://localhost:8080/",
     "height": 298
    },
    "colab_type": "code",
    "id": "9qyrLpAmXOZb",
    "outputId": "eab58b37-c56b-4fd5-fa37-db40ad0a00d0"
   },
   "outputs": [
    {
     "data": {
      "image/png": "[encoded data removed]",
      "text/plain": [
       "<Figure size 432x288 with 1 Axes>"
      ]
     },
     "metadata": {
      "needs_background": "light"
     },
     "output_type": "display_data"
    },
    {
     "name": "stdout",
     "output_type": "stream",
     "text": [
      "label of shown image is 2\n"
     ]
    }
   ],
   "source": [
    "r = randrange(X_train.shape[0])\n",
    "plt.imshow(X_train[r], interpolation='nearest', cmap='gray')\n",
    "plt.title('plot of a random sign image')\n",
    "plt.show()\n",
    "print('label of shown image is', Y_train[r])"
   ]
  },
  {
   "cell_type": "code",
   "execution_count": 4,
   "metadata": {
    "colab": {
     "base_uri": "https://localhost:8080/",
     "height": 52
    },
    "colab_type": "code",
    "id": "GXtxEbxvXOZh",
    "outputId": "5232c6da-376d-4cbb-8783-0f19613ef832"
   },
   "outputs": [
    {
     "name": "stdout",
     "output_type": "stream",
     "text": [
      "X_train : (60000, 28, 28) Y_train : (60000,) \n",
      "X_test : (10000, 28, 28) Y_test : (10000,)\n"
     ]
    }
   ],
   "source": [
    "print(\"X_train :\",X_train.shape,\n",
    "      \"Y_train :\",Y_train.shape,\n",
    "     \"\\nX_test :\",X_test.shape,\n",
    "     \"Y_test :\",Y_test.shape)"
   ]
  },
  {
   "cell_type": "code",
   "execution_count": 5,
   "metadata": {
    "colab": {},
    "colab_type": "code",
    "id": "SBtQJ3EvXOZn"
   },
   "outputs": [],
   "source": [
    "X_train = X_train.reshape(60000, 28, 28, 1)\n",
    "X_train = X_train.astype('float32')/255.\n",
    "X_test = X_test.reshape(10000, 28, 28, 1)\n",
    "X_test = X_test.astype('float32')/255.\n",
    "# K.clear_session()"
   ]
  },
  {
   "cell_type": "code",
   "execution_count": 7,
   "metadata": {
    "colab": {
     "base_uri": "https://localhost:8080/",
     "height": 439
    },
    "colab_type": "code",
    "id": "ruBReQC-XOZt",
    "outputId": "643c6c9b-0d67-44a2-ddc8-ba1a62b3001b"
   },
   "outputs": [
    {
     "name": "stdout",
     "output_type": "stream",
     "text": [
      "Model: \"layer1\"\n",
      "_________________________________________________________________\n",
      "Layer (type)                 Output Shape              Param #   \n",
      "=================================================================\n",
      "input_2 (InputLayer)         [(None, 28, 28, 1)]       0         \n",
      "_________________________________________________________________\n",
      "conv2d_3 (Conv2D)            (None, 28, 28, 16)        160       \n",
      "_________________________________________________________________\n",
      "max_pooling2d_3 (MaxPooling2 (None, 14, 14, 16)        0         \n",
      "=================================================================\n",
      "Total params: 160\n",
      "Trainable params: 160\n",
      "Non-trainable params: 0\n",
      "_________________________________________________________________\n"
     ]
    }
   ],
   "source": [
    "input_img = Input(shape=(28, 28, 1))\n",
    "\n",
    "x = Conv2D(16, (3, 3), activation='relu', padding='same')(input_img)\n",
    "x = MaxPooling2D((2, 2), padding='same')(x)\n",
    "layer1 = Model(input_img, x, name='layer1')\n",
    "\n",
    "x = Conv2D(8, (3, 3), activation='relu', padding='same')(x)\n",
    "x = MaxPooling2D((2, 2), padding='same')(x)\n",
    "layer2 = Model(input_img, x, name='layer2')\n",
    "\n",
    "x = Conv2D(8, (3, 3), activation='relu', padding='same')(x)\n",
    "x = MaxPooling2D((2, 2), padding='same')(x)\n",
    "layer3 = Model(input_img, x, name='layer3')\n",
    "\n",
    "encoded = Conv2D(4, (1,1), activation='relu', padding='same', name='encoded_img')(x)\n",
    "encoder = Model(input_img, encoded, name='encoder')\n",
    "layer1.summary()"
   ]
  },
  {
   "cell_type": "code",
   "execution_count": 13,
   "metadata": {},
   "outputs": [
    {
     "name": "stdout",
     "output_type": "stream",
     "text": [
      "layer1 output: Tensor(\"max_pooling2d_3/Identity:0\", shape=(None, 14, 14, 16), dtype=float32)\n",
      "\n",
      "layer2 output: Tensor(\"max_pooling2d_4/Identity:0\", shape=(None, 7, 7, 8), dtype=float32)\n",
      "\n",
      "layer3 output: Tensor(\"max_pooling2d_5/Identity:0\", shape=(None, 4, 4, 8), dtype=float32)\n",
      "\n",
      "Model: \"encoder\"\n",
      "_________________________________________________________________\n",
      "Layer (type)                 Output Shape              Param #   \n",
      "=================================================================\n",
      "input_2 (InputLayer)         [(None, 28, 28, 1)]       0         \n",
      "_________________________________________________________________\n",
      "conv2d_3 (Conv2D)            (None, 28, 28, 16)        160       \n",
      "_________________________________________________________________\n",
      "max_pooling2d_3 (MaxPooling2 (None, 14, 14, 16)        0         \n",
      "_________________________________________________________________\n",
      "conv2d_4 (Conv2D)            (None, 14, 14, 8)         1160      \n",
      "_________________________________________________________________\n",
      "max_pooling2d_4 (MaxPooling2 (None, 7, 7, 8)           0         \n",
      "_________________________________________________________________\n",
      "conv2d_5 (Conv2D)            (None, 7, 7, 8)           584       \n",
      "_________________________________________________________________\n",
      "max_pooling2d_5 (MaxPooling2 (None, 4, 4, 8)           0         \n",
      "_________________________________________________________________\n",
      "encoded_img (Conv2D)         (None, 4, 4, 4)           36        \n",
      "=================================================================\n",
      "Total params: 1,940\n",
      "Trainable params: 1,940\n",
      "Non-trainable params: 0\n",
      "_________________________________________________________________\n",
      "None\n"
     ]
    }
   ],
   "source": [
    "print('layer1 output:',layer1.output); print()\n",
    "print('layer2 output:',layer2.output); print()\n",
    "print('layer3 output:',layer3.output); print()\n",
    "print(encoder.summary())"
   ]
  },
  {
   "cell_type": "code",
   "execution_count": 14,
   "metadata": {
    "colab": {
     "base_uri": "https://localhost:8080/",
     "height": 686
    },
    "colab_type": "code",
    "id": "snQsQOsdXOZy",
    "outputId": "68167b0c-97ae-48df-c786-c04a997873e5"
   },
   "outputs": [
    {
     "name": "stdout",
     "output_type": "stream",
     "text": [
      "Model: \"autoencoder\"\n",
      "_________________________________________________________________\n",
      "Layer (type)                 Output Shape              Param #   \n",
      "=================================================================\n",
      "input_2 (InputLayer)         [(None, 28, 28, 1)]       0         \n",
      "_________________________________________________________________\n",
      "conv2d_3 (Conv2D)            (None, 28, 28, 16)        160       \n",
      "_________________________________________________________________\n",
      "max_pooling2d_3 (MaxPooling2 (None, 14, 14, 16)        0         \n",
      "_________________________________________________________________\n",
      "conv2d_4 (Conv2D)            (None, 14, 14, 8)         1160      \n",
      "_________________________________________________________________\n",
      "max_pooling2d_4 (MaxPooling2 (None, 7, 7, 8)           0         \n",
      "_________________________________________________________________\n",
      "conv2d_5 (Conv2D)            (None, 7, 7, 8)           584       \n",
      "_________________________________________________________________\n",
      "max_pooling2d_5 (MaxPooling2 (None, 4, 4, 8)           0         \n",
      "_________________________________________________________________\n",
      "encoded_img (Conv2D)         (None, 4, 4, 4)           36        \n",
      "_________________________________________________________________\n",
      "conv2d_6 (Conv2D)            (None, 4, 4, 8)           296       \n",
      "_________________________________________________________________\n",
      "up_sampling2d (UpSampling2D) (None, 8, 8, 8)           0         \n",
      "_________________________________________________________________\n",
      "conv2d_7 (Conv2D)            (None, 8, 8, 8)           584       \n",
      "_________________________________________________________________\n",
      "up_sampling2d_1 (UpSampling2 (None, 16, 16, 8)         0         \n",
      "_________________________________________________________________\n",
      "conv2d_8 (Conv2D)            (None, 14, 14, 16)        1168      \n",
      "_________________________________________________________________\n",
      "up_sampling2d_2 (UpSampling2 (None, 28, 28, 16)        0         \n",
      "_________________________________________________________________\n",
      "decoded_img (Conv2D)         (None, 28, 28, 1)         145       \n",
      "=================================================================\n",
      "Total params: 4,133\n",
      "Trainable params: 4,133\n",
      "Non-trainable params: 0\n",
      "_________________________________________________________________\n"
     ]
    }
   ],
   "source": [
    "x = Conv2D(8, (3, 3), activation='relu', padding='same')(encoded)\n",
    "x = UpSampling2D((2, 2))(x)\n",
    "x = Conv2D(8, (3, 3), activation='relu', padding='same')(x)\n",
    "x = UpSampling2D((2, 2))(x)\n",
    "x = Conv2D(16, (3, 3), activation='relu')(x)\n",
    "x = UpSampling2D((2, 2))(x)\n",
    "decoded = Conv2D(1, (3, 3), activation='sigmoid', padding='same', name='decoded_img')(x)\n",
    "\n",
    "autoencoder = Model(input_img, decoded, name='autoencoder')\n",
    "autoencoder.compile(optimizer='Adam', loss='binary_crossentropy')\n",
    "autoencoder.summary()"
   ]
  },
  {
   "cell_type": "code",
   "execution_count": 15,
   "metadata": {
    "colab": {
     "base_uri": "https://localhost:8080/",
     "height": 1000
    },
    "colab_type": "code",
    "id": "ASFQ2ZWGXOZ-",
    "outputId": "64fd794b-05f2-4926-ac34-8e71d080699b"
   },
   "outputs": [
    {
     "name": "stdout",
     "output_type": "stream",
     "text": [
      "Epoch 1/40\n",
      "938/938 [==============================] - 33s 35ms/step - loss: 0.1970 - val_loss: 0.1399\n",
      "Epoch 2/40\n",
      "938/938 [==============================] - 33s 36ms/step - loss: 0.1328 - val_loss: 0.1251\n",
      "Epoch 3/40\n",
      "938/938 [==============================] - 34s 36ms/step - loss: 0.1216 - val_loss: 0.1177\n",
      "Epoch 4/40\n",
      "938/938 [==============================] - 36s 38ms/step - loss: 0.1157 - val_loss: 0.1125\n",
      "Epoch 5/40\n",
      "938/938 [==============================] - 34s 36ms/step - loss: 0.1116 - val_loss: 0.1091\n",
      "Epoch 6/40\n",
      "938/938 [==============================] - 37s 39ms/step - loss: 0.1084 - val_loss: 0.1062\n",
      "Epoch 7/40\n",
      "938/938 [==============================] - 35s 37ms/step - loss: 0.1062 - val_loss: 0.1045\n",
      "Epoch 8/40\n",
      "938/938 [==============================] - 35s 37ms/step - loss: 0.1044 - val_loss: 0.1024\n",
      "Epoch 9/40\n",
      "938/938 [==============================] - 36s 38ms/step - loss: 0.1029 - val_loss: 0.1012\n",
      "Epoch 10/40\n",
      "938/938 [==============================] - 35s 38ms/step - loss: 0.1017 - val_loss: 0.0997\n",
      "Epoch 11/40\n",
      "938/938 [==============================] - 34s 36ms/step - loss: 0.1006 - val_loss: 0.0992\n",
      "Epoch 12/40\n",
      "938/938 [==============================] - 37s 39ms/step - loss: 0.0997 - val_loss: 0.0982\n",
      "Epoch 13/40\n",
      "938/938 [==============================] - 31s 33ms/step - loss: 0.0989 - val_loss: 0.0973\n",
      "Epoch 14/40\n",
      "938/938 [==============================] - 33s 35ms/step - loss: 0.0982 - val_loss: 0.0969\n",
      "Epoch 15/40\n",
      "938/938 [==============================] - 31s 33ms/step - loss: 0.0976 - val_loss: 0.0966\n",
      "Epoch 16/40\n",
      "938/938 [==============================] - 33s 35ms/step - loss: 0.0970 - val_loss: 0.0959\n",
      "Epoch 17/40\n",
      "938/938 [==============================] - 32s 34ms/step - loss: 0.0966 - val_loss: 0.0951\n",
      "Epoch 18/40\n",
      "938/938 [==============================] - 33s 35ms/step - loss: 0.0962 - val_loss: 0.0949\n",
      "Epoch 19/40\n",
      "938/938 [==============================] - 32s 34ms/step - loss: 0.0957 - val_loss: 0.0951\n",
      "Epoch 20/40\n",
      "938/938 [==============================] - 33s 35ms/step - loss: 0.0954 - val_loss: 0.0944\n",
      "Epoch 21/40\n",
      "938/938 [==============================] - 33s 36ms/step - loss: 0.0951 - val_loss: 0.0938\n",
      "Epoch 22/40\n",
      "938/938 [==============================] - 33s 35ms/step - loss: 0.0948 - val_loss: 0.0938\n",
      "Epoch 23/40\n",
      "938/938 [==============================] - 33s 35ms/step - loss: 0.0946 - val_loss: 0.0939\n",
      "Epoch 24/40\n",
      "938/938 [==============================] - 32s 34ms/step - loss: 0.0943 - val_loss: 0.0929\n",
      "Epoch 25/40\n",
      "938/938 [==============================] - 33s 35ms/step - loss: 0.0941 - val_loss: 0.0929\n",
      "Epoch 26/40\n",
      "938/938 [==============================] - 37s 40ms/step - loss: 0.0938 - val_loss: 0.0926\n",
      "Epoch 27/40\n",
      "938/938 [==============================] - 40s 43ms/step - loss: 0.0937 - val_loss: 0.0925\n",
      "Epoch 28/40\n",
      "938/938 [==============================] - 36s 38ms/step - loss: 0.0934 - val_loss: 0.0928\n",
      "Epoch 29/40\n",
      "938/938 [==============================] - 34s 36ms/step - loss: 0.0932 - val_loss: 0.0926\n",
      "Epoch 30/40\n",
      "938/938 [==============================] - 34s 36ms/step - loss: 0.0930 - val_loss: 0.0922\n",
      "Epoch 31/40\n",
      "938/938 [==============================] - 34s 36ms/step - loss: 0.0928 - val_loss: 0.0924\n",
      "Epoch 32/40\n",
      "938/938 [==============================] - 34s 36ms/step - loss: 0.0927 - val_loss: 0.0915\n",
      "Epoch 33/40\n",
      "938/938 [==============================] - 34s 36ms/step - loss: 0.0925 - val_loss: 0.0913\n",
      "Epoch 34/40\n",
      "938/938 [==============================] - 34s 36ms/step - loss: 0.0923 - val_loss: 0.0921\n",
      "Epoch 35/40\n",
      "938/938 [==============================] - 34s 36ms/step - loss: 0.0922 - val_loss: 0.0909\n",
      "Epoch 36/40\n",
      "938/938 [==============================] - 34s 36ms/step - loss: 0.0921 - val_loss: 0.0915\n",
      "Epoch 37/40\n",
      "938/938 [==============================] - 34s 36ms/step - loss: 0.0919 - val_loss: 0.0916\n",
      "Epoch 38/40\n",
      "938/938 [==============================] - 36s 39ms/step - loss: 0.0918 - val_loss: 0.0913\n",
      "Epoch 39/40\n",
      "938/938 [==============================] - 37s 40ms/step - loss: 0.0917 - val_loss: 0.0909\n",
      "Epoch 40/40\n",
      "938/938 [==============================] - 38s 41ms/step - loss: 0.0915 - val_loss: 0.0901\n"
     ]
    }
   ],
   "source": [
    "history = autoencoder.fit(X_train, X_train,\n",
    "                epochs=40,\n",
    "                batch_size=64,\n",
    "                shuffle=True,\n",
    "                validation_data=(X_test, X_test))"
   ]
  },
  {
   "cell_type": "code",
   "execution_count": 16,
   "metadata": {
    "colab": {
     "base_uri": "https://localhost:8080/",
     "height": 313
    },
    "colab_type": "code",
    "id": "jEfhhoB-XOaD",
    "outputId": "dfebc72b-1a77-4efe-96f2-821a4fbc1b32"
   },
   "outputs": [
    {
     "name": "stdout",
     "output_type": "stream",
     "text": [
      "Training loss after 40 epochs: 0.0915\n"
     ]
    },
    {
     "data": {
      "image/png": "[encoded data removed]",
      "text/plain": [
       "<Figure size 432x288 with 1 Axes>"
      ]
     },
     "metadata": {
      "needs_background": "light"
     },
     "output_type": "display_data"
    }
   ],
   "source": [
    "print('Training loss after 40 epochs: %.4f'%history.history['loss'][-1])\n",
    "# plot the loss curves\n",
    "plt.plot(history.history['loss'])\n",
    "plt.plot(history.history['val_loss'])\n",
    "plt.title('model loss')\n",
    "plt.ylabel('loss')\n",
    "plt.xlabel('epoch')\n",
    "plt.legend(['train', 'validation'], loc='upper right')\n",
    "plt.show()"
   ]
  },
  {
   "cell_type": "code",
   "execution_count": 17,
   "metadata": {},
   "outputs": [
    {
     "name": "stdout",
     "output_type": "stream",
     "text": [
      "WARNING:tensorflow:From /home/kumail/anaconda3/lib/python3.7/site-packages/tensorflow/python/ops/resource_variable_ops.py:1817: calling BaseResourceVariable.__init__ (from tensorflow.python.ops.resource_variable_ops) with constraint is deprecated and will be removed in a future version.\n",
      "Instructions for updating:\n",
      "If using Keras pass *_constraint arguments to layers.\n",
      "INFO:tensorflow:Assets written to: layer1/assets\n",
      "INFO:tensorflow:Assets written to: layer2/assets\n",
      "INFO:tensorflow:Assets written to: layer3/assets\n",
      "INFO:tensorflow:Assets written to: encoder/assets\n",
      "INFO:tensorflow:Assets written to: autoencoder/assets\n"
     ]
    }
   ],
   "source": [
    "# save the trained model\n",
    "layer1.save(\"layer1\")\n",
    "layer2.save(\"layer2\")\n",
    "layer3.save(\"layer3\")\n",
    "encoder.save(\"encoder\")\n",
    "autoencoder.save(\"autoencoder\")"
   ]
  },
  {
   "cell_type": "code",
   "execution_count": 18,
   "metadata": {},
   "outputs": [
    {
     "data": {
      "text/plain": [
       "(10000, 28, 28, 1)"
      ]
     },
     "execution_count": 18,
     "metadata": {},
     "output_type": "execute_result"
    }
   ],
   "source": [
    "decoded_imgs = autoencoder.predict(X_test)\n",
    "decoded_imgs.shape"
   ]
  },
  {
   "cell_type": "code",
   "execution_count": 19,
   "metadata": {
    "colab": {
     "base_uri": "https://localhost:8080/",
     "height": 234
    },
    "colab_type": "code",
    "id": "65N7gdzVXOaI",
    "outputId": "bb5431c9-695b-48e9-b3d8-72a4baf7fb98"
   },
   "outputs": [
    {
     "data": {
      "image/png": "[encoded data removed]",
      "text/plain": [
       "<Figure size 1440x288 with 20 Axes>"
      ]
     },
     "metadata": {
      "needs_background": "light"
     },
     "output_type": "display_data"
    }
   ],
   "source": [
    "n = 10\n",
    "plt.figure(figsize=(20, 4))\n",
    "for i in range(n):\n",
    "  r = randrange(X_test.shape[0])\n",
    "  # display original\n",
    "  ax = plt.subplot(2, n, i + 1)\n",
    "  plt.imshow(X_test[r].reshape(28, 28))\n",
    "  plt.gray()\n",
    "  ax.get_xaxis().set_visible(False)\n",
    "  ax.get_yaxis().set_visible(False)\n",
    "  # display reconstruction\n",
    "  ax = plt.subplot(2, n, i +1 + n)\n",
    "  plt.imshow(decoded_imgs[r].reshape(28, 28))\n",
    "  plt.gray()\n",
    "  ax.get_xaxis().set_visible(False)\n",
    "  ax.get_yaxis().set_visible(False)\n",
    "plt.show()"
   ]
  },
  {
   "cell_type": "code",
   "execution_count": 21,
   "metadata": {},
   "outputs": [
    {
     "data": {
      "image/png": "[encoded data removed]",
      "text/plain": [
       "<Figure size 432x288 with 1 Axes>"
      ]
     },
     "metadata": {
      "needs_background": "light"
     },
     "output_type": "display_data"
    }
   ],
   "source": [
    "plt.imshow(X_test[0].squeeze());"
   ]
  },
  {
   "cell_type": "code",
   "execution_count": 24,
   "metadata": {
    "colab": {
     "base_uri": "https://localhost:8080/",
     "height": 34
    },
    "colab_type": "code",
    "id": "6SE3ACFfcShZ",
    "outputId": "ed610a6a-134c-4488-d678-6d72d5f8d8fe"
   },
   "outputs": [
    {
     "name": "stdout",
     "output_type": "stream",
     "text": [
      "(14, 14, 16)\n",
      "(7, 7, 8)\n",
      "(4, 4, 8)\n",
      "(4, 4, 4)\n"
     ]
    }
   ],
   "source": [
    "pred1 = layer1.predict(X_test[0].reshape(1,28,28,1)).squeeze()\n",
    "pred2 = layer2.predict(X_test[0].reshape(1,28,28,1)).squeeze()\n",
    "pred3 = layer3.predict(X_test[0].reshape(1,28,28,1)).squeeze()\n",
    "encoded_img = encoder.predict(X_test[0].reshape(1,28,28,1)).squeeze()\n",
    "print(pred1.shape)\n",
    "print(pred2.shape)\n",
    "print(pred3.shape)\n",
    "print(encoded_img.shape)"
   ]
  },
  {
   "cell_type": "code",
   "execution_count": 45,
   "metadata": {},
   "outputs": [
    {
     "data": {
      "text/plain": [
       "[0, 4, 2, 1, 3]"
      ]
     },
     "execution_count": 45,
     "metadata": {},
     "output_type": "execute_result"
    }
   ],
   "source": [
    "import random\n",
    "random.sample(range(5), 5)"
   ]
  },
  {
   "cell_type": "code",
   "execution_count": 51,
   "metadata": {},
   "outputs": [
    {
     "data": {
      "image/png": "[encoded data removed]",
      "text/plain": [
       "<Figure size 1440x720 with 26 Axes>"
      ]
     },
     "metadata": {
      "needs_background": "light"
     },
     "output_type": "display_data"
    }
   ],
   "source": [
    "import random\n",
    "plt.figure(figsize=(20, 10))\n",
    "a = 4\n",
    "ax = plt.subplot(5,7,a)\n",
    "ax.imshow(X_test[0].squeeze())\n",
    "ax.get_xaxis().set_visible(False)\n",
    "ax.get_yaxis().set_visible(False)\n",
    "a=8\n",
    "for i in range(7):\n",
    "    arr = random.sample(range(16), 7)\n",
    "    ax = plt.subplot(5,7,a)\n",
    "    ax.imshow(pred1[:,:,arr[i]]);\n",
    "    ax.get_xaxis().set_visible(False)\n",
    "    ax.get_yaxis().set_visible(False)\n",
    "    a+=1\n",
    "    \n",
    "for i in range(7):\n",
    "    arr = random.sample(range(8), 7)\n",
    "    ax = plt.subplot(5,7,a)\n",
    "    ax.imshow(pred2[:,:,arr[i]]);\n",
    "    ax.get_xaxis().set_visible(False)\n",
    "    ax.get_yaxis().set_visible(False)\n",
    "    a+=1\n",
    "    \n",
    "for i in range(7):\n",
    "    arr = random.sample(range(8), 7)\n",
    "    ax = plt.subplot(5,7,a)\n",
    "    ax.imshow(pred3[:,:,arr[i]]);\n",
    "    ax.get_xaxis().set_visible(False)\n",
    "    ax.get_yaxis().set_visible(False)\n",
    "    a+=1\n",
    "a+=1    \n",
    "for i in range(4):\n",
    "    ax = plt.subplot(5,7,a)\n",
    "    ax.imshow(encoded_img[:,:,i]);\n",
    "    ax.get_xaxis().set_visible(False)\n",
    "    ax.get_yaxis().set_visible(False)\n",
    "    a+=1"
   ]
  },
  {
   "cell_type": "markdown",
   "metadata": {
    "colab_type": "text",
    "id": "vq5kS9Dtf37j"
   },
   "source": [
    "## Let us try to explore how the neural network is actually encoding the numbers. The following illustrates how two instances of 5 and 3 instances of 7 are encoded and then decoded. Note that each encoding consists of 4 channels, each with 16 pixels. "
   ]
  },
  {
   "cell_type": "code",
   "execution_count": 53,
   "metadata": {},
   "outputs": [
    {
     "data": {
      "text/plain": [
       "(10000, 4, 4, 4)"
      ]
     },
     "execution_count": 53,
     "metadata": {},
     "output_type": "execute_result"
    }
   ],
   "source": [
    "encoded_imgs = encoder.predict(X_test)\n",
    "encoded_imgs.shape"
   ]
  },
  {
   "cell_type": "code",
   "execution_count": 54,
   "metadata": {
    "colab": {
     "base_uri": "https://localhost:8080/",
     "height": 574
    },
    "colab_type": "code",
    "id": "OWNqjuVaXOaR",
    "outputId": "9587792b-655e-4f0a-b232-9871e92501a8"
   },
   "outputs": [
    {
     "data": {
      "image/png": "[encoded data removed]",
      "text/plain": [
       "<Figure size 1440x720 with 30 Axes>"
      ]
     },
     "metadata": {
      "needs_background": "light"
     },
     "output_type": "display_data"
    }
   ],
   "source": [
    "n = 5\n",
    "I = [15, 23, 0, 4487, 8003]\n",
    "plt.figure(figsize=(20, 10))\n",
    "a = 1\n",
    "for i in range(n):\n",
    "  # display original\n",
    "  ax = plt.subplot(n, 6, a)\n",
    "  plt.imshow(X_test[I[i]].reshape(28, 28))\n",
    "  plt.gray()\n",
    "  ax.get_xaxis().set_visible(False)\n",
    "  ax.get_yaxis().set_visible(False)\n",
    "  a+=1\n",
    "  # display encodings\n",
    "  ax = plt.subplot(n, 6, a)\n",
    "  plt.imshow(encoded_imgs[I[i],:,:,0])\n",
    "  plt.gray()\n",
    "  ax.get_xaxis().set_visible(False)\n",
    "  ax.get_yaxis().set_visible(False)\n",
    "  a+=1\n",
    "  ax = plt.subplot(n, 6, a)\n",
    "  plt.imshow(encoded_imgs[I[i],:,:,1])\n",
    "  plt.gray()\n",
    "  ax.get_xaxis().set_visible(False)\n",
    "  ax.get_yaxis().set_visible(False)\n",
    "  a+=1\n",
    "  ax = plt.subplot(n, 6, a)\n",
    "  plt.imshow(encoded_imgs[I[i],:,:,2])\n",
    "  plt.gray()\n",
    "  ax.get_xaxis().set_visible(False)\n",
    "  ax.get_yaxis().set_visible(False)\n",
    "  a+=1\n",
    "  ax = plt.subplot(n, 6, a)\n",
    "  plt.imshow(encoded_imgs[I[i],:,:,3])\n",
    "  plt.gray()\n",
    "  ax.get_xaxis().set_visible(False)\n",
    "  ax.get_yaxis().set_visible(False)\n",
    "  a+=1\n",
    "  # display reconstruction\n",
    "  ax = plt.subplot(n, 6, a)\n",
    "  plt.imshow(decoded_imgs[I[i]].reshape(28, 28))\n",
    "  plt.gray()\n",
    "  ax.get_xaxis().set_visible(False)\n",
    "  ax.get_yaxis().set_visible(False)\n",
    "  a+=1\n",
    "plt.show()"
   ]
  },
  {
   "cell_type": "code",
   "execution_count": null,
   "metadata": {},
   "outputs": [],
   "source": []
  }
 ],
 "metadata": {
  "accelerator": "GPU",
  "colab": {
   "name": "Untitled.ipynb",
   "provenance": []
  },
  "kernelspec": {
   "display_name": "Python 3",
   "language": "python",
   "name": "python3"
  },
  "language_info": {
   "codemirror_mode": {
    "name": "ipython",
    "version": 3
   },
   "file_extension": ".py",
   "mimetype": "text/x-python",
   "name": "python",
   "nbconvert_exporter": "python",
   "pygments_lexer": "ipython3",
   "version": "3.7.3"
  }
 },
 "nbformat": 4,
 "nbformat_minor": 1
}
