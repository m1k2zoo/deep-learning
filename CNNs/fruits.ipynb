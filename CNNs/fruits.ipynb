{
  "nbformat": 4,
  "nbformat_minor": 0,
  "metadata": {
    "kernelspec": {
      "display_name": "Python 3",
      "language": "python",
      "name": "python3"
    },
    "language_info": {
      "codemirror_mode": {
        "name": "ipython",
        "version": 3
      },
      "file_extension": ".py",
      "mimetype": "text/x-python",
      "name": "python",
      "nbconvert_exporter": "python",
      "pygments_lexer": "ipython3",
      "version": "3.7.3"
    },
    "colab": {
      "name": "kha32, hw2.ipynb",
      "provenance": []
    },
    "accelerator": "GPU"
  },
  "cells": [
    {
      "cell_type": "code",
      "metadata": {
        "id": "Eqk10EguxTmg",
        "colab_type": "code",
        "colab": {}
      },
      "source": [
        "import numpy as np\n",
        "import tensorflow as tf\n",
        "import matplotlib.pyplot as plt\n",
        "from tensorflow.keras.preprocessing.image import ImageDataGenerator"
      ],
      "execution_count": 31,
      "outputs": []
    },
    {
      "cell_type": "code",
      "metadata": {
        "id": "KWrEePLLxTmn",
        "colab_type": "code",
        "colab": {}
      },
      "source": [
        "# dimensions of our images (new resolution)\n",
        "w, h = 75, 75  \n",
        "\n",
        "# path to image folders\n",
        "train_dir = 'fruits-360/Training/'\n",
        "test_dir = 'fruits-360/Test/'\n",
        "train_samples = 67692\n",
        "validation_samples = 22688\n",
        "batch_size = 1000\n",
        "num_epochs = 50"
      ],
      "execution_count": 32,
      "outputs": []
    },
    {
      "cell_type": "code",
      "metadata": {
        "id": "qYSQeVJ3xTmt",
        "colab_type": "code",
        "colab": {
          "base_uri": "https://localhost:8080/",
          "height": 54
        },
        "outputId": "83864d20-4cfc-47ee-8ae3-d2a10542fc80"
      },
      "source": [
        "train_datagen = ImageDataGenerator(rescale=1./ 255)\n",
        "test_datagen = ImageDataGenerator(rescale=1./ 255)\n",
        "\n",
        "train_generator = train_datagen.flow_from_directory(\n",
        "    train_dir,\n",
        "    target_size=(h, w),\n",
        "    batch_size=batch_size,\n",
        "    seed=42,\n",
        "    class_mode='categorical')\n",
        "\n",
        "validation_generator = test_datagen.flow_from_directory(\n",
        "    test_dir,\n",
        "    target_size=(h, w),\n",
        "    batch_size=batch_size,\n",
        "    seed=42,\n",
        "    class_mode='categorical')"
      ],
      "execution_count": 33,
      "outputs": [
        {
          "output_type": "stream",
          "text": [
            "Found 67692 images belonging to 131 classes.\n",
            "Found 22688 images belonging to 131 classes.\n"
          ],
          "name": "stdout"
        }
      ]
    },
    {
      "cell_type": "code",
      "metadata": {
        "id": "BzY0LmhmxTmz",
        "colab_type": "code",
        "colab": {}
      },
      "source": [
        "def my_model():\n",
        "    # weight and bias initializers\n",
        "    w = tf.keras.initializers.GlorotUniform(seed=99)\n",
        "    b = tf.keras.initializers.Zeros()\n",
        "    # create the model\n",
        "    model = tf.keras.models.Sequential([\n",
        "        tf.keras.layers.Conv2D(64, (3,3), activation='relu',\n",
        "                               bias_initializer=b, kernel_initializer=w, input_shape=(75,75,3)),\n",
        "        tf.keras.layers.MaxPooling2D(2, 2),\n",
        "        tf.keras.layers.Conv2D(128, (3,3), activation='relu',\n",
        "                               bias_initializer=b, kernel_initializer=w),\n",
        "        tf.keras.layers.BatchNormalization(),\n",
        "        tf.keras.layers.Dropout(0.3),\n",
        "        tf.keras.layers.MaxPooling2D(2, 2),\n",
        "        tf.keras.layers.Flatten(),\n",
        "        tf.keras.layers.Dense(256, bias_initializer=b, kernel_initializer=w, activation='relu'),\n",
        "        tf.keras.layers.Dense(131, bias_initializer=b, kernel_initializer=w, activation='softmax')\n",
        "    ], name='fruits_model')\n",
        "    return model"
      ],
      "execution_count": 34,
      "outputs": []
    },
    {
      "cell_type": "code",
      "metadata": {
        "id": "NTARZvb4xTm6",
        "colab_type": "code",
        "colab": {
          "base_uri": "https://localhost:8080/",
          "height": 490
        },
        "outputId": "777f3357-83ce-4269-a4f4-57faf409edf2"
      },
      "source": [
        "model = my_model()\n",
        "model.summary()"
      ],
      "execution_count": 35,
      "outputs": [
        {
          "output_type": "stream",
          "text": [
            "Model: \"fruits_model\"\n",
            "_________________________________________________________________\n",
            "Layer (type)                 Output Shape              Param #   \n",
            "=================================================================\n",
            "conv2d_12 (Conv2D)           (None, 73, 73, 64)        1792      \n",
            "_________________________________________________________________\n",
            "max_pooling2d_12 (MaxPooling (None, 36, 36, 64)        0         \n",
            "_________________________________________________________________\n",
            "conv2d_13 (Conv2D)           (None, 34, 34, 128)       73856     \n",
            "_________________________________________________________________\n",
            "batch_normalization_6 (Batch (None, 34, 34, 128)       512       \n",
            "_________________________________________________________________\n",
            "dropout_6 (Dropout)          (None, 34, 34, 128)       0         \n",
            "_________________________________________________________________\n",
            "max_pooling2d_13 (MaxPooling (None, 17, 17, 128)       0         \n",
            "_________________________________________________________________\n",
            "flatten_6 (Flatten)          (None, 36992)             0         \n",
            "_________________________________________________________________\n",
            "dense_12 (Dense)             (None, 256)               9470208   \n",
            "_________________________________________________________________\n",
            "dense_13 (Dense)             (None, 131)               33667     \n",
            "=================================================================\n",
            "Total params: 9,580,035\n",
            "Trainable params: 9,579,779\n",
            "Non-trainable params: 256\n",
            "_________________________________________________________________\n"
          ],
          "name": "stdout"
        }
      ]
    },
    {
      "cell_type": "code",
      "metadata": {
        "id": "EQki-P8oAhi6",
        "colab_type": "code",
        "colab": {
          "base_uri": "https://localhost:8080/",
          "height": 953
        },
        "outputId": "6fa5de37-df3e-4246-f81e-f6972ca1727b"
      },
      "source": [
        "tf.keras.utils.plot_model(model)"
      ],
      "execution_count": 36,
      "outputs": [
        {
          "output_type": "execute_result",
          "data": {
            "image/png": "[encoded data removed]",
            "text/plain": [
              "<IPython.core.display.Image object>"
            ]
          },
          "metadata": {
            "tags": []
          },
          "execution_count": 36
        }
      ]
    },
    {
      "cell_type": "code",
      "metadata": {
        "id": "Wkp3NtfCxTm_",
        "colab_type": "code",
        "colab": {
          "base_uri": "https://localhost:8080/",
          "height": 1000
        },
        "outputId": "253d0b05-4bb4-4e5c-94ea-a254545210db"
      },
      "source": [
        "# instantiate the optimizer\n",
        "optmz = tf.keras.optimizers.Adam()\n",
        "# compile the model\n",
        "model.compile(optimizer='Adam', loss='categorical_crossentropy',metrics=['accuracy'])\n",
        "# fit the parameters\n",
        "history = model.fit(\n",
        "    train_generator,\n",
        "    steps_per_epoch=train_samples//batch_size,\n",
        "    epochs=num_epochs,\n",
        "    verbose = 1,\n",
        "    validation_data = validation_generator,\n",
        "    validation_steps = validation_samples//batch_size)"
      ],
      "execution_count": 37,
      "outputs": [
        {
          "output_type": "stream",
          "text": [
            "Epoch 1/50\n",
            "67/67 [==============================] - 55s 820ms/step - loss: 0.9575 - accuracy: 0.8146 - val_loss: 3.1582 - val_accuracy: 0.4450\n",
            "Epoch 2/50\n",
            "67/67 [==============================] - 52s 779ms/step - loss: 0.0020 - accuracy: 0.9998 - val_loss: 2.4096 - val_accuracy: 0.6487\n",
            "Epoch 3/50\n",
            "67/67 [==============================] - 52s 776ms/step - loss: 4.4031e-04 - accuracy: 1.0000 - val_loss: 1.8280 - val_accuracy: 0.6833\n",
            "Epoch 4/50\n",
            "67/67 [==============================] - 52s 780ms/step - loss: 2.1634e-04 - accuracy: 1.0000 - val_loss: 1.3977 - val_accuracy: 0.6792\n",
            "Epoch 5/50\n",
            "67/67 [==============================] - 52s 780ms/step - loss: 1.2610e-04 - accuracy: 1.0000 - val_loss: 1.0899 - val_accuracy: 0.6974\n",
            "Epoch 6/50\n",
            "67/67 [==============================] - 52s 783ms/step - loss: 9.6542e-05 - accuracy: 1.0000 - val_loss: 0.9574 - val_accuracy: 0.7144\n",
            "Epoch 7/50\n",
            "67/67 [==============================] - 52s 776ms/step - loss: 7.5999e-05 - accuracy: 1.0000 - val_loss: 0.8909 - val_accuracy: 0.7430\n",
            "Epoch 8/50\n",
            "67/67 [==============================] - 52s 777ms/step - loss: 6.3633e-05 - accuracy: 1.0000 - val_loss: 0.8882 - val_accuracy: 0.7649\n",
            "Epoch 9/50\n",
            "67/67 [==============================] - 52s 772ms/step - loss: 5.4485e-05 - accuracy: 1.0000 - val_loss: 0.9158 - val_accuracy: 0.7794\n",
            "Epoch 10/50\n",
            "67/67 [==============================] - 52s 773ms/step - loss: 4.7161e-05 - accuracy: 1.0000 - val_loss: 0.9235 - val_accuracy: 0.7963\n",
            "Epoch 11/50\n",
            "67/67 [==============================] - 51s 765ms/step - loss: 3.8837e-05 - accuracy: 1.0000 - val_loss: 0.9095 - val_accuracy: 0.8101\n",
            "Epoch 12/50\n",
            "67/67 [==============================] - 51s 766ms/step - loss: 3.3508e-05 - accuracy: 1.0000 - val_loss: 0.9320 - val_accuracy: 0.8131\n",
            "Epoch 13/50\n",
            "67/67 [==============================] - 51s 765ms/step - loss: 2.9570e-05 - accuracy: 1.0000 - val_loss: 0.9446 - val_accuracy: 0.8147\n",
            "Epoch 14/50\n",
            "67/67 [==============================] - 51s 761ms/step - loss: 2.6945e-05 - accuracy: 1.0000 - val_loss: 0.9568 - val_accuracy: 0.8147\n",
            "Epoch 15/50\n",
            "67/67 [==============================] - 51s 766ms/step - loss: 2.3443e-05 - accuracy: 1.0000 - val_loss: 0.9722 - val_accuracy: 0.8150\n",
            "Epoch 16/50\n",
            "67/67 [==============================] - 51s 766ms/step - loss: 2.0764e-05 - accuracy: 1.0000 - val_loss: 0.9772 - val_accuracy: 0.8144\n",
            "Epoch 17/50\n",
            "67/67 [==============================] - 51s 764ms/step - loss: 1.8963e-05 - accuracy: 1.0000 - val_loss: 0.9704 - val_accuracy: 0.8165\n",
            "Epoch 18/50\n",
            "67/67 [==============================] - 51s 765ms/step - loss: 1.7335e-05 - accuracy: 1.0000 - val_loss: 0.9848 - val_accuracy: 0.8147\n",
            "Epoch 19/50\n",
            "67/67 [==============================] - 51s 762ms/step - loss: 1.5568e-05 - accuracy: 1.0000 - val_loss: 0.9967 - val_accuracy: 0.8134\n",
            "Epoch 20/50\n",
            "67/67 [==============================] - 51s 762ms/step - loss: 1.4563e-05 - accuracy: 1.0000 - val_loss: 0.9987 - val_accuracy: 0.8136\n",
            "Epoch 21/50\n",
            "67/67 [==============================] - 51s 765ms/step - loss: 1.3190e-05 - accuracy: 1.0000 - val_loss: 0.9954 - val_accuracy: 0.8147\n",
            "Epoch 22/50\n",
            "67/67 [==============================] - 51s 763ms/step - loss: 1.2345e-05 - accuracy: 1.0000 - val_loss: 1.0055 - val_accuracy: 0.8138\n",
            "Epoch 23/50\n",
            "67/67 [==============================] - 51s 764ms/step - loss: 1.1360e-05 - accuracy: 1.0000 - val_loss: 1.0191 - val_accuracy: 0.8133\n",
            "Epoch 24/50\n",
            "67/67 [==============================] - 51s 762ms/step - loss: 1.0090e-05 - accuracy: 1.0000 - val_loss: 0.9950 - val_accuracy: 0.8160\n",
            "Epoch 25/50\n",
            "67/67 [==============================] - 51s 763ms/step - loss: 9.2932e-06 - accuracy: 1.0000 - val_loss: 0.9865 - val_accuracy: 0.8168\n",
            "Epoch 26/50\n",
            "67/67 [==============================] - 51s 763ms/step - loss: 8.5780e-06 - accuracy: 1.0000 - val_loss: 1.0135 - val_accuracy: 0.8140\n",
            "Epoch 27/50\n",
            "67/67 [==============================] - 51s 765ms/step - loss: 8.2561e-06 - accuracy: 1.0000 - val_loss: 1.0056 - val_accuracy: 0.8154\n",
            "Epoch 28/50\n",
            "67/67 [==============================] - 51s 764ms/step - loss: 7.5200e-06 - accuracy: 1.0000 - val_loss: 1.0151 - val_accuracy: 0.8137\n",
            "Epoch 29/50\n",
            "67/67 [==============================] - 51s 768ms/step - loss: 6.9041e-06 - accuracy: 1.0000 - val_loss: 1.0039 - val_accuracy: 0.8160\n",
            "Epoch 30/50\n",
            "67/67 [==============================] - 51s 763ms/step - loss: 6.5817e-06 - accuracy: 1.0000 - val_loss: 1.0006 - val_accuracy: 0.8172\n",
            "Epoch 31/50\n",
            "67/67 [==============================] - 51s 762ms/step - loss: 6.1560e-06 - accuracy: 1.0000 - val_loss: 1.0198 - val_accuracy: 0.8156\n",
            "Epoch 32/50\n",
            "67/67 [==============================] - 51s 764ms/step - loss: 5.8107e-06 - accuracy: 1.0000 - val_loss: 1.0024 - val_accuracy: 0.8176\n",
            "Epoch 33/50\n",
            "67/67 [==============================] - 51s 762ms/step - loss: 5.3030e-06 - accuracy: 1.0000 - val_loss: 1.0259 - val_accuracy: 0.8146\n",
            "Epoch 34/50\n",
            "67/67 [==============================] - 51s 759ms/step - loss: 5.1949e-06 - accuracy: 1.0000 - val_loss: 1.0145 - val_accuracy: 0.8165\n",
            "Epoch 35/50\n",
            "67/67 [==============================] - 51s 762ms/step - loss: 4.8611e-06 - accuracy: 1.0000 - val_loss: 1.0267 - val_accuracy: 0.8154\n",
            "Epoch 36/50\n",
            "67/67 [==============================] - 51s 759ms/step - loss: 4.4763e-06 - accuracy: 1.0000 - val_loss: 1.0164 - val_accuracy: 0.8170\n",
            "Epoch 37/50\n",
            "67/67 [==============================] - 51s 759ms/step - loss: 0.8703 - accuracy: 0.8474 - val_loss: 35.3835 - val_accuracy: 0.0855\n",
            "Epoch 38/50\n",
            "67/67 [==============================] - 51s 759ms/step - loss: 0.0081 - accuracy: 0.9983 - val_loss: 12.8930 - val_accuracy: 0.2701\n",
            "Epoch 39/50\n",
            "67/67 [==============================] - 51s 763ms/step - loss: 0.0013 - accuracy: 0.9998 - val_loss: 6.9013 - val_accuracy: 0.4135\n",
            "Epoch 40/50\n",
            "67/67 [==============================] - 51s 761ms/step - loss: 6.1924e-04 - accuracy: 0.9999 - val_loss: 4.5204 - val_accuracy: 0.5429\n",
            "Epoch 41/50\n",
            "67/67 [==============================] - 51s 760ms/step - loss: 3.1470e-04 - accuracy: 1.0000 - val_loss: 3.5380 - val_accuracy: 0.6078\n",
            "Epoch 42/50\n",
            "67/67 [==============================] - 51s 757ms/step - loss: 2.4879e-04 - accuracy: 1.0000 - val_loss: 3.2758 - val_accuracy: 0.6393\n",
            "Epoch 43/50\n",
            "67/67 [==============================] - 51s 757ms/step - loss: 1.8682e-04 - accuracy: 1.0000 - val_loss: 3.0448 - val_accuracy: 0.6625\n",
            "Epoch 44/50\n",
            "67/67 [==============================] - 51s 755ms/step - loss: 1.6915e-04 - accuracy: 1.0000 - val_loss: 3.0906 - val_accuracy: 0.6638\n",
            "Epoch 45/50\n",
            "67/67 [==============================] - 51s 754ms/step - loss: 1.3211e-04 - accuracy: 1.0000 - val_loss: 3.0538 - val_accuracy: 0.6658\n",
            "Epoch 46/50\n",
            "67/67 [==============================] - 51s 759ms/step - loss: 1.1732e-04 - accuracy: 1.0000 - val_loss: 3.1527 - val_accuracy: 0.6617\n",
            "Epoch 47/50\n",
            "67/67 [==============================] - 51s 758ms/step - loss: 1.0108e-04 - accuracy: 1.0000 - val_loss: 3.0574 - val_accuracy: 0.6719\n",
            "Epoch 48/50\n",
            "67/67 [==============================] - 51s 755ms/step - loss: 8.5092e-05 - accuracy: 1.0000 - val_loss: 3.0898 - val_accuracy: 0.6723\n",
            "Epoch 49/50\n",
            "67/67 [==============================] - 51s 757ms/step - loss: 7.4906e-05 - accuracy: 1.0000 - val_loss: 3.1161 - val_accuracy: 0.6708\n",
            "Epoch 50/50\n",
            "67/67 [==============================] - 51s 756ms/step - loss: 6.9486e-05 - accuracy: 1.0000 - val_loss: 3.1585 - val_accuracy: 0.6714\n"
          ],
          "name": "stdout"
        }
      ]
    },
    {
      "cell_type": "code",
      "metadata": {
        "id": "KjQURMTHAykf",
        "colab_type": "code",
        "colab": {
          "base_uri": "https://localhost:8080/",
          "height": 35
        },
        "outputId": "92fc982a-63c3-4727-c382-e144954d8bce"
      },
      "source": [
        "print(history.history.keys())"
      ],
      "execution_count": 38,
      "outputs": [
        {
          "output_type": "stream",
          "text": [
            "dict_keys(['loss', 'accuracy', 'val_loss', 'val_accuracy'])\n"
          ],
          "name": "stdout"
        }
      ]
    },
    {
      "cell_type": "code",
      "metadata": {
        "id": "PJLaRciUUHZ1",
        "colab_type": "code",
        "colab": {
          "base_uri": "https://localhost:8080/",
          "height": 331
        },
        "outputId": "2c24b2a7-6de2-40f5-8f9c-aae80d3aab9a"
      },
      "source": [
        "print('Training accuracy after 50 epochs: ',history.history['accuracy'][-1])\n",
        "print('Testing accuracy after 50 epochs: %.4f'%history.history['val_accuracy'][-1])\n",
        "# plot the accuracy curves\n",
        "plt.plot(history.history['accuracy'])\n",
        "plt.plot(history.history['val_accuracy'])\n",
        "plt.title('model accuracy')\n",
        "plt.ylabel('accuracy')\n",
        "plt.xlabel('epoch')\n",
        "plt.legend(['train', 'validation'], loc='lower left')\n",
        "plt.show()"
      ],
      "execution_count": 43,
      "outputs": [
        {
          "output_type": "stream",
          "text": [
            "Training accuracy after 50 epochs:  1.0\n",
            "Testing accuracy after 50 epochs: 0.6714\n"
          ],
          "name": "stdout"
        },
        {
          "output_type": "display_data",
          "data": {
            "image/png": "[encoded data removed]",
            "text/plain": [
              "<Figure size 432x288 with 1 Axes>"
            ]
          },
          "metadata": {
            "tags": [],
            "needs_background": "light"
          }
        }
      ]
    },
    {
      "cell_type": "code",
      "metadata": {
        "id": "vQXgdKGnUck_",
        "colab_type": "code",
        "colab": {
          "base_uri": "https://localhost:8080/",
          "height": 295
        },
        "outputId": "575e9985-ea85-47b6-e03a-cdbc641c81e0"
      },
      "source": [
        "# plot the loss curves\n",
        "plt.plot(history.history['loss'])\n",
        "plt.plot(history.history['val_loss'])\n",
        "plt.title('model loss')\n",
        "plt.ylabel('loss')\n",
        "plt.xlabel('epoch')\n",
        "plt.legend(['train', 'validation'], loc='upper left')\n",
        "plt.show()"
      ],
      "execution_count": 44,
      "outputs": [
        {
          "output_type": "display_data",
          "data": {
            "image/png": "[encoded data removed]",
            "text/plain": [
              "<Figure size 432x288 with 1 Axes>"
            ]
          },
          "metadata": {
            "tags": [],
            "needs_background": "light"
          }
        }
      ]
    },
    {
      "cell_type": "markdown",
      "metadata": {
        "id": "O2Dh-r9NV8eN",
        "colab_type": "text"
      },
      "source": [
        "## Note that using Early Stopping, we could have saved the model parameters  after 36 or 37 iterations, where both training and validation losses are minimzed."
      ]
    }
  ]
}